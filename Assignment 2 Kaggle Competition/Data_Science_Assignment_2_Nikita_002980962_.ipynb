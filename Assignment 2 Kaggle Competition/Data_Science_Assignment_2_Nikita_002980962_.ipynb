{
  "nbformat": 4,
  "nbformat_minor": 0,
  "metadata": {
    "colab": {
      "name": "  Data_Science_Assignment_2_Nikita_002980962 .ipynb",
      "provenance": [],
      "collapsed_sections": []
    },
    "kernelspec": {
      "name": "python3",
      "display_name": "Python 3"
    },
    "language_info": {
      "name": "python"
    }
  },
  "cells": [
    {
      "cell_type": "markdown",
      "metadata": {
        "id": "uMmdjQJhJBlC"
      },
      "source": [
        "# **Course Name: Data Science Engineering Methods and Tools**\n",
        "\n",
        "### Submitted by -\n",
        "* Name - Nikita Gaurihar\n",
        "* Nuid - 002980962\n",
        "___________________________________________________________________________\n",
        " \n",
        "## **Assignment 2** - Kaggle Competition\n",
        "\n",
        "\n",
        "### **Abstract** \"*Mobile Price Range Prediction IS2020 V2*\"\n",
        "With the rapidly changing technologies, electronic devices like cell phones, laptops, ipad, etc. are getting more and more advanced and feature-packed. Users are changing their devices very frequently and sometimes every year in case of Cell phones. Thus, it becomes paramount for mobile companies to identify features that customers values the most.In this project, we aim to predict the mobile prices based on its specifications like ram, battery power, screen resolution, internal memory, etc.   \n",
        "\n",
        "\n",
        "### **Variables information**\n",
        "\n",
        "0   id   - unique identifier          \n",
        " 1   battery_power - battery power of cell phone\n",
        " 2   bluetooth - whether it has a bluetooth or not   \n",
        " 3   clock_speed - clock speed   \n",
        " 4   dual_sim - if it is a dual sim or not.        \n",
        " 5   fc                \n",
        " 6   four_g - If it is a 4G device or not           \n",
        " 7   int_memory - Internal memory of the device    \n",
        " 8   m_dep - mobile depth       \n",
        " 9   mobile_wt - mobile weight       \n",
        " 10  n_cores - no of core processors       \n",
        " 11  pc -              \n",
        " 12  px_height- pixel height\n",
        " 13  px_width - pixel weight      \n",
        " 14  ram - ram         \n",
        " 15  sc_h -          \n",
        " 16  sc_w           \n",
        " 17  talk_time - how much talktime does it support        \n",
        " 18  three_g - if its a 3G phone        \n",
        " 19  touch_screen - If its a touchscreen phone\n",
        " 20  wifi - does it support wifi or not           \n",
        " 21  price_range - Price range of device.  \n",
        "\n",
        "\n",
        "\n",
        "\n",
        "\n",
        "---------------------------------------------------------------------------"
      ]
    },
    {
      "cell_type": "markdown",
      "metadata": {
        "id": "hBQX0C42Jig7"
      },
      "source": [
        "## **Part A: Downloading Kaggle competition Dataset:**"
      ]
    },
    {
      "cell_type": "code",
      "metadata": {
        "colab": {
          "resources": {
            "http://localhost:8080/nbextensions/google.colab/files.js": {
              "data": "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",
              "ok": true,
              "headers": [
                [
                  "content-type",
                  "application/javascript"
                ]
              ],
              "status": 200,
              "status_text": ""
            }
          },
          "base_uri": "https://localhost:8080/",
          "height": 90
        },
        "id": "6KgLhg-8ntuF",
        "outputId": "f5d5500b-8306-4f0b-f174-c08dbdf351e5"
      },
      "source": [
        "from google.colab import files\n",
        "\n",
        "uploaded = files.upload()\n",
        "\n",
        "\n",
        "\n",
        "for fn in uploaded.keys():\n",
        "\n",
        "  print('User uploaded file \"{name}\" with length {length} bytes'.format(\n",
        "\n",
        "      name=fn, length=len(uploaded[fn])))\n",
        "\n",
        "  \n",
        "\n",
        "# Then move kaggle.json into the folder where the API expects to find it.\n",
        "\n",
        "!mkdir -p ~/.kaggle/ && mv kaggle.json ~/.kaggle/ && chmod 600 ~/.kaggle/kaggle.json"
      ],
      "execution_count": null,
      "outputs": [
        {
          "output_type": "display_data",
          "data": {
            "text/html": [
              "\n",
              "     <input type=\"file\" id=\"files-49e22724-5f16-40d0-a9a3-17fdd4f84e62\" name=\"files[]\" multiple disabled\n",
              "        style=\"border:none\" />\n",
              "     <output id=\"result-49e22724-5f16-40d0-a9a3-17fdd4f84e62\">\n",
              "      Upload widget is only available when the cell has been executed in the\n",
              "      current browser session. Please rerun this cell to enable.\n",
              "      </output>\n",
              "      <script src=\"/nbextensions/google.colab/files.js\"></script> "
            ],
            "text/plain": [
              "<IPython.core.display.HTML object>"
            ]
          },
          "metadata": {}
        },
        {
          "output_type": "stream",
          "name": "stdout",
          "text": [
            "Saving kaggle.json to kaggle.json\n",
            "User uploaded file \"kaggle.json\" with length 70 bytes\n"
          ]
        }
      ]
    },
    {
      "cell_type": "code",
      "metadata": {
        "colab": {
          "base_uri": "https://localhost:8080/"
        },
        "id": "J1vXXI7Cn3jN",
        "outputId": "2da3624d-cf3f-4d77-8bc0-1058fdd1887d"
      },
      "source": [
        "!kaggle competitions download -c mobile-price-range-prediction-is2020-v2"
      ],
      "execution_count": null,
      "outputs": [
        {
          "output_type": "stream",
          "name": "stdout",
          "text": [
            "Warning: Looks like you're using an outdated API Version, please consider updating (server 1.5.12 / client 1.5.4)\n",
            "Downloading sample_submission.csv to /content\n",
            "  0% 0.00/4.12k [00:00<?, ?B/s]\n",
            "100% 4.12k/4.12k [00:00<00:00, 3.62MB/s]\n",
            "Downloading test_data.csv to /content\n",
            "  0% 0.00/37.7k [00:00<?, ?B/s]\n",
            "100% 37.7k/37.7k [00:00<00:00, 34.1MB/s]\n",
            "Downloading train_data.csv to /content\n",
            "  0% 0.00/89.5k [00:00<?, ?B/s]\n",
            "100% 89.5k/89.5k [00:00<00:00, 48.0MB/s]\n"
          ]
        }
      ]
    },
    {
      "cell_type": "markdown",
      "metadata": {
        "id": "Wn9Ehq_XJvpP"
      },
      "source": [
        "# **Part B**: \n",
        "\n",
        "### **1. Importing Packages and libraries:**"
      ]
    },
    {
      "cell_type": "code",
      "metadata": {
        "id": "jPl3u8oUkPbG"
      },
      "source": [
        "import numpy as np                                                   # linear algebra\n",
        "import pandas as pd                                                  # data processing\n",
        "import seaborn as sns                                                # Python Visualization library to draw attactive statistical graphics\n",
        "import matplotlib.pyplot as plt                                      # Python 2D plotting library\n",
        "import scipy.stats as stats                                          # \n",
        "\n",
        "import warnings\n",
        "warnings.filterwarnings('ignore')\n",
        "\n",
        "# scikit learn is an open source Python library to implement a range of machine learning, pre-processing, cross validation & Visualizations\n",
        "from sklearn.preprocessing import OneHotEncoder                       # \n",
        "from sklearn.model_selection import train_test_split                  # to split data in train & test sets.\n",
        "from sklearn.ensemble import RandomForestRegressor                    #"
      ],
      "execution_count": null,
      "outputs": []
    },
    {
      "cell_type": "markdown",
      "metadata": {
        "id": "xRHWVzivKSfT"
      },
      "source": [
        "# **Part B:**\n",
        "### **2. Displaying given dataset:**"
      ]
    },
    {
      "cell_type": "code",
      "metadata": {
        "id": "TJ8z7KdCoGho"
      },
      "source": [
        "train_data = pd.read_csv('train_data.csv')"
      ],
      "execution_count": null,
      "outputs": []
    },
    {
      "cell_type": "code",
      "metadata": {
        "colab": {
          "base_uri": "https://localhost:8080/"
        },
        "id": "y1zmcXnNoLMV",
        "outputId": "3c91a610-d397-4c1c-ceaf-1363715074ad"
      },
      "source": [
        "train_data.info()"
      ],
      "execution_count": null,
      "outputs": [
        {
          "output_type": "stream",
          "name": "stdout",
          "text": [
            "<class 'pandas.core.frame.DataFrame'>\n",
            "RangeIndex: 1400 entries, 0 to 1399\n",
            "Data columns (total 22 columns):\n",
            " #   Column         Non-Null Count  Dtype  \n",
            "---  ------         --------------  -----  \n",
            " 0   id             1400 non-null   int64  \n",
            " 1   battery_power  1400 non-null   int64  \n",
            " 2   bluetooth      1400 non-null   int64  \n",
            " 3   clock_speed    1400 non-null   float64\n",
            " 4   dual_sim       1400 non-null   int64  \n",
            " 5   fc             1400 non-null   int64  \n",
            " 6   four_g         1400 non-null   int64  \n",
            " 7   int_memory     1400 non-null   int64  \n",
            " 8   m_dep          1400 non-null   float64\n",
            " 9   mobile_wt      1400 non-null   int64  \n",
            " 10  n_cores        1400 non-null   int64  \n",
            " 11  pc             1400 non-null   int64  \n",
            " 12  px_height      1400 non-null   int64  \n",
            " 13  px_width       1400 non-null   int64  \n",
            " 14  ram            1400 non-null   int64  \n",
            " 15  sc_h           1400 non-null   int64  \n",
            " 16  sc_w           1400 non-null   int64  \n",
            " 17  talk_time      1400 non-null   int64  \n",
            " 18  three_g        1400 non-null   int64  \n",
            " 19  touch_screen   1400 non-null   int64  \n",
            " 20  wifi           1400 non-null   int64  \n",
            " 21  price_range    1400 non-null   int64  \n",
            "dtypes: float64(2), int64(20)\n",
            "memory usage: 240.8 KB\n"
          ]
        }
      ]
    },
    {
      "cell_type": "code",
      "metadata": {
        "colab": {
          "base_uri": "https://localhost:8080/",
          "height": 226
        },
        "id": "Aqj1qQt6oPvE",
        "outputId": "b68753de-76ed-4415-ae7b-177f6b4fa4fe"
      },
      "source": [
        "train_data.head(5)"
      ],
      "execution_count": null,
      "outputs": [
        {
          "output_type": "execute_result",
          "data": {
            "text/html": [
              "<div>\n",
              "<style scoped>\n",
              "    .dataframe tbody tr th:only-of-type {\n",
              "        vertical-align: middle;\n",
              "    }\n",
              "\n",
              "    .dataframe tbody tr th {\n",
              "        vertical-align: top;\n",
              "    }\n",
              "\n",
              "    .dataframe thead th {\n",
              "        text-align: right;\n",
              "    }\n",
              "</style>\n",
              "<table border=\"1\" class=\"dataframe\">\n",
              "  <thead>\n",
              "    <tr style=\"text-align: right;\">\n",
              "      <th></th>\n",
              "      <th>id</th>\n",
              "      <th>battery_power</th>\n",
              "      <th>bluetooth</th>\n",
              "      <th>clock_speed</th>\n",
              "      <th>dual_sim</th>\n",
              "      <th>fc</th>\n",
              "      <th>four_g</th>\n",
              "      <th>int_memory</th>\n",
              "      <th>m_dep</th>\n",
              "      <th>mobile_wt</th>\n",
              "      <th>n_cores</th>\n",
              "      <th>pc</th>\n",
              "      <th>px_height</th>\n",
              "      <th>px_width</th>\n",
              "      <th>ram</th>\n",
              "      <th>sc_h</th>\n",
              "      <th>sc_w</th>\n",
              "      <th>talk_time</th>\n",
              "      <th>three_g</th>\n",
              "      <th>touch_screen</th>\n",
              "      <th>wifi</th>\n",
              "      <th>price_range</th>\n",
              "    </tr>\n",
              "  </thead>\n",
              "  <tbody>\n",
              "    <tr>\n",
              "      <th>0</th>\n",
              "      <td>1</td>\n",
              "      <td>807</td>\n",
              "      <td>1</td>\n",
              "      <td>0.5</td>\n",
              "      <td>1</td>\n",
              "      <td>0</td>\n",
              "      <td>0</td>\n",
              "      <td>37</td>\n",
              "      <td>0.2</td>\n",
              "      <td>127</td>\n",
              "      <td>4</td>\n",
              "      <td>0</td>\n",
              "      <td>245</td>\n",
              "      <td>829</td>\n",
              "      <td>2319</td>\n",
              "      <td>5</td>\n",
              "      <td>4</td>\n",
              "      <td>4</td>\n",
              "      <td>0</td>\n",
              "      <td>0</td>\n",
              "      <td>0</td>\n",
              "      <td>1</td>\n",
              "    </tr>\n",
              "    <tr>\n",
              "      <th>1</th>\n",
              "      <td>2</td>\n",
              "      <td>1065</td>\n",
              "      <td>1</td>\n",
              "      <td>0.5</td>\n",
              "      <td>0</td>\n",
              "      <td>0</td>\n",
              "      <td>1</td>\n",
              "      <td>14</td>\n",
              "      <td>0.7</td>\n",
              "      <td>89</td>\n",
              "      <td>2</td>\n",
              "      <td>2</td>\n",
              "      <td>188</td>\n",
              "      <td>928</td>\n",
              "      <td>3078</td>\n",
              "      <td>10</td>\n",
              "      <td>1</td>\n",
              "      <td>18</td>\n",
              "      <td>1</td>\n",
              "      <td>0</td>\n",
              "      <td>1</td>\n",
              "      <td>2</td>\n",
              "    </tr>\n",
              "    <tr>\n",
              "      <th>2</th>\n",
              "      <td>3</td>\n",
              "      <td>1171</td>\n",
              "      <td>1</td>\n",
              "      <td>1.7</td>\n",
              "      <td>1</td>\n",
              "      <td>2</td>\n",
              "      <td>0</td>\n",
              "      <td>19</td>\n",
              "      <td>0.3</td>\n",
              "      <td>167</td>\n",
              "      <td>7</td>\n",
              "      <td>19</td>\n",
              "      <td>248</td>\n",
              "      <td>755</td>\n",
              "      <td>263</td>\n",
              "      <td>6</td>\n",
              "      <td>5</td>\n",
              "      <td>8</td>\n",
              "      <td>0</td>\n",
              "      <td>0</td>\n",
              "      <td>0</td>\n",
              "      <td>0</td>\n",
              "    </tr>\n",
              "    <tr>\n",
              "      <th>3</th>\n",
              "      <td>4</td>\n",
              "      <td>609</td>\n",
              "      <td>1</td>\n",
              "      <td>3.0</td>\n",
              "      <td>0</td>\n",
              "      <td>15</td>\n",
              "      <td>1</td>\n",
              "      <td>44</td>\n",
              "      <td>0.3</td>\n",
              "      <td>117</td>\n",
              "      <td>1</td>\n",
              "      <td>16</td>\n",
              "      <td>58</td>\n",
              "      <td>1253</td>\n",
              "      <td>2581</td>\n",
              "      <td>15</td>\n",
              "      <td>11</td>\n",
              "      <td>15</td>\n",
              "      <td>1</td>\n",
              "      <td>0</td>\n",
              "      <td>1</td>\n",
              "      <td>1</td>\n",
              "    </tr>\n",
              "    <tr>\n",
              "      <th>4</th>\n",
              "      <td>5</td>\n",
              "      <td>1193</td>\n",
              "      <td>1</td>\n",
              "      <td>2.3</td>\n",
              "      <td>0</td>\n",
              "      <td>7</td>\n",
              "      <td>0</td>\n",
              "      <td>20</td>\n",
              "      <td>1.0</td>\n",
              "      <td>158</td>\n",
              "      <td>7</td>\n",
              "      <td>13</td>\n",
              "      <td>1442</td>\n",
              "      <td>1904</td>\n",
              "      <td>1958</td>\n",
              "      <td>7</td>\n",
              "      <td>5</td>\n",
              "      <td>2</td>\n",
              "      <td>1</td>\n",
              "      <td>0</td>\n",
              "      <td>0</td>\n",
              "      <td>2</td>\n",
              "    </tr>\n",
              "  </tbody>\n",
              "</table>\n",
              "</div>"
            ],
            "text/plain": [
              "   id  battery_power  bluetooth  ...  touch_screen  wifi  price_range\n",
              "0   1            807          1  ...             0     0            1\n",
              "1   2           1065          1  ...             0     1            2\n",
              "2   3           1171          1  ...             0     0            0\n",
              "3   4            609          1  ...             0     1            1\n",
              "4   5           1193          1  ...             0     0            2\n",
              "\n",
              "[5 rows x 22 columns]"
            ]
          },
          "metadata": {},
          "execution_count": 6
        }
      ]
    },
    {
      "cell_type": "markdown",
      "metadata": {
        "id": "4Fg7kR09QIqn"
      },
      "source": [
        "## **Part B- 3. Addition of New Feature:**"
      ]
    },
    {
      "cell_type": "code",
      "metadata": {
        "id": "YtEQc_MQTvyR"
      },
      "source": [
        "for ind, row in train_data.iterrows():\n",
        "  train_data.loc[ind,\"Disp_Resolution\"] = row['px_height']*row['px_width']"
      ],
      "execution_count": null,
      "outputs": []
    },
    {
      "cell_type": "code",
      "metadata": {
        "colab": {
          "base_uri": "https://localhost:8080/",
          "height": 443
        },
        "id": "ja6L-h0VZsPU",
        "outputId": "1e70df0f-db23-4f67-fb25-bb52749b965a"
      },
      "source": [
        "train_data"
      ],
      "execution_count": null,
      "outputs": [
        {
          "output_type": "execute_result",
          "data": {
            "text/html": [
              "<div>\n",
              "<style scoped>\n",
              "    .dataframe tbody tr th:only-of-type {\n",
              "        vertical-align: middle;\n",
              "    }\n",
              "\n",
              "    .dataframe tbody tr th {\n",
              "        vertical-align: top;\n",
              "    }\n",
              "\n",
              "    .dataframe thead th {\n",
              "        text-align: right;\n",
              "    }\n",
              "</style>\n",
              "<table border=\"1\" class=\"dataframe\">\n",
              "  <thead>\n",
              "    <tr style=\"text-align: right;\">\n",
              "      <th></th>\n",
              "      <th>id</th>\n",
              "      <th>battery_power</th>\n",
              "      <th>bluetooth</th>\n",
              "      <th>clock_speed</th>\n",
              "      <th>dual_sim</th>\n",
              "      <th>fc</th>\n",
              "      <th>four_g</th>\n",
              "      <th>int_memory</th>\n",
              "      <th>m_dep</th>\n",
              "      <th>mobile_wt</th>\n",
              "      <th>n_cores</th>\n",
              "      <th>pc</th>\n",
              "      <th>px_height</th>\n",
              "      <th>px_width</th>\n",
              "      <th>ram</th>\n",
              "      <th>sc_h</th>\n",
              "      <th>sc_w</th>\n",
              "      <th>talk_time</th>\n",
              "      <th>three_g</th>\n",
              "      <th>touch_screen</th>\n",
              "      <th>wifi</th>\n",
              "      <th>price_range</th>\n",
              "      <th>Disp_Resolution</th>\n",
              "    </tr>\n",
              "  </thead>\n",
              "  <tbody>\n",
              "    <tr>\n",
              "      <th>0</th>\n",
              "      <td>1</td>\n",
              "      <td>807</td>\n",
              "      <td>1</td>\n",
              "      <td>0.5</td>\n",
              "      <td>1</td>\n",
              "      <td>0</td>\n",
              "      <td>0</td>\n",
              "      <td>37</td>\n",
              "      <td>0.2</td>\n",
              "      <td>127</td>\n",
              "      <td>4</td>\n",
              "      <td>0</td>\n",
              "      <td>245</td>\n",
              "      <td>829</td>\n",
              "      <td>2319</td>\n",
              "      <td>5</td>\n",
              "      <td>4</td>\n",
              "      <td>4</td>\n",
              "      <td>0</td>\n",
              "      <td>0</td>\n",
              "      <td>0</td>\n",
              "      <td>1</td>\n",
              "      <td>203105.0</td>\n",
              "    </tr>\n",
              "    <tr>\n",
              "      <th>1</th>\n",
              "      <td>2</td>\n",
              "      <td>1065</td>\n",
              "      <td>1</td>\n",
              "      <td>0.5</td>\n",
              "      <td>0</td>\n",
              "      <td>0</td>\n",
              "      <td>1</td>\n",
              "      <td>14</td>\n",
              "      <td>0.7</td>\n",
              "      <td>89</td>\n",
              "      <td>2</td>\n",
              "      <td>2</td>\n",
              "      <td>188</td>\n",
              "      <td>928</td>\n",
              "      <td>3078</td>\n",
              "      <td>10</td>\n",
              "      <td>1</td>\n",
              "      <td>18</td>\n",
              "      <td>1</td>\n",
              "      <td>0</td>\n",
              "      <td>1</td>\n",
              "      <td>2</td>\n",
              "      <td>174464.0</td>\n",
              "    </tr>\n",
              "    <tr>\n",
              "      <th>2</th>\n",
              "      <td>3</td>\n",
              "      <td>1171</td>\n",
              "      <td>1</td>\n",
              "      <td>1.7</td>\n",
              "      <td>1</td>\n",
              "      <td>2</td>\n",
              "      <td>0</td>\n",
              "      <td>19</td>\n",
              "      <td>0.3</td>\n",
              "      <td>167</td>\n",
              "      <td>7</td>\n",
              "      <td>19</td>\n",
              "      <td>248</td>\n",
              "      <td>755</td>\n",
              "      <td>263</td>\n",
              "      <td>6</td>\n",
              "      <td>5</td>\n",
              "      <td>8</td>\n",
              "      <td>0</td>\n",
              "      <td>0</td>\n",
              "      <td>0</td>\n",
              "      <td>0</td>\n",
              "      <td>187240.0</td>\n",
              "    </tr>\n",
              "    <tr>\n",
              "      <th>3</th>\n",
              "      <td>4</td>\n",
              "      <td>609</td>\n",
              "      <td>1</td>\n",
              "      <td>3.0</td>\n",
              "      <td>0</td>\n",
              "      <td>15</td>\n",
              "      <td>1</td>\n",
              "      <td>44</td>\n",
              "      <td>0.3</td>\n",
              "      <td>117</td>\n",
              "      <td>1</td>\n",
              "      <td>16</td>\n",
              "      <td>58</td>\n",
              "      <td>1253</td>\n",
              "      <td>2581</td>\n",
              "      <td>15</td>\n",
              "      <td>11</td>\n",
              "      <td>15</td>\n",
              "      <td>1</td>\n",
              "      <td>0</td>\n",
              "      <td>1</td>\n",
              "      <td>1</td>\n",
              "      <td>72674.0</td>\n",
              "    </tr>\n",
              "    <tr>\n",
              "      <th>4</th>\n",
              "      <td>5</td>\n",
              "      <td>1193</td>\n",
              "      <td>1</td>\n",
              "      <td>2.3</td>\n",
              "      <td>0</td>\n",
              "      <td>7</td>\n",
              "      <td>0</td>\n",
              "      <td>20</td>\n",
              "      <td>1.0</td>\n",
              "      <td>158</td>\n",
              "      <td>7</td>\n",
              "      <td>13</td>\n",
              "      <td>1442</td>\n",
              "      <td>1904</td>\n",
              "      <td>1958</td>\n",
              "      <td>7</td>\n",
              "      <td>5</td>\n",
              "      <td>2</td>\n",
              "      <td>1</td>\n",
              "      <td>0</td>\n",
              "      <td>0</td>\n",
              "      <td>2</td>\n",
              "      <td>2745568.0</td>\n",
              "    </tr>\n",
              "    <tr>\n",
              "      <th>...</th>\n",
              "      <td>...</td>\n",
              "      <td>...</td>\n",
              "      <td>...</td>\n",
              "      <td>...</td>\n",
              "      <td>...</td>\n",
              "      <td>...</td>\n",
              "      <td>...</td>\n",
              "      <td>...</td>\n",
              "      <td>...</td>\n",
              "      <td>...</td>\n",
              "      <td>...</td>\n",
              "      <td>...</td>\n",
              "      <td>...</td>\n",
              "      <td>...</td>\n",
              "      <td>...</td>\n",
              "      <td>...</td>\n",
              "      <td>...</td>\n",
              "      <td>...</td>\n",
              "      <td>...</td>\n",
              "      <td>...</td>\n",
              "      <td>...</td>\n",
              "      <td>...</td>\n",
              "      <td>...</td>\n",
              "    </tr>\n",
              "    <tr>\n",
              "      <th>1395</th>\n",
              "      <td>1396</td>\n",
              "      <td>1100</td>\n",
              "      <td>1</td>\n",
              "      <td>1.6</td>\n",
              "      <td>0</td>\n",
              "      <td>12</td>\n",
              "      <td>0</td>\n",
              "      <td>15</td>\n",
              "      <td>0.1</td>\n",
              "      <td>112</td>\n",
              "      <td>8</td>\n",
              "      <td>14</td>\n",
              "      <td>919</td>\n",
              "      <td>1344</td>\n",
              "      <td>757</td>\n",
              "      <td>12</td>\n",
              "      <td>2</td>\n",
              "      <td>16</td>\n",
              "      <td>1</td>\n",
              "      <td>1</td>\n",
              "      <td>1</td>\n",
              "      <td>0</td>\n",
              "      <td>1235136.0</td>\n",
              "    </tr>\n",
              "    <tr>\n",
              "      <th>1396</th>\n",
              "      <td>1397</td>\n",
              "      <td>1358</td>\n",
              "      <td>0</td>\n",
              "      <td>2.5</td>\n",
              "      <td>1</td>\n",
              "      <td>0</td>\n",
              "      <td>0</td>\n",
              "      <td>20</td>\n",
              "      <td>0.6</td>\n",
              "      <td>135</td>\n",
              "      <td>7</td>\n",
              "      <td>0</td>\n",
              "      <td>1485</td>\n",
              "      <td>1655</td>\n",
              "      <td>3406</td>\n",
              "      <td>5</td>\n",
              "      <td>1</td>\n",
              "      <td>11</td>\n",
              "      <td>0</td>\n",
              "      <td>0</td>\n",
              "      <td>1</td>\n",
              "      <td>3</td>\n",
              "      <td>2457675.0</td>\n",
              "    </tr>\n",
              "    <tr>\n",
              "      <th>1397</th>\n",
              "      <td>1398</td>\n",
              "      <td>1034</td>\n",
              "      <td>1</td>\n",
              "      <td>2.7</td>\n",
              "      <td>1</td>\n",
              "      <td>6</td>\n",
              "      <td>0</td>\n",
              "      <td>37</td>\n",
              "      <td>0.7</td>\n",
              "      <td>120</td>\n",
              "      <td>7</td>\n",
              "      <td>20</td>\n",
              "      <td>707</td>\n",
              "      <td>1199</td>\n",
              "      <td>3625</td>\n",
              "      <td>17</td>\n",
              "      <td>1</td>\n",
              "      <td>12</td>\n",
              "      <td>0</td>\n",
              "      <td>1</td>\n",
              "      <td>1</td>\n",
              "      <td>3</td>\n",
              "      <td>847693.0</td>\n",
              "    </tr>\n",
              "    <tr>\n",
              "      <th>1398</th>\n",
              "      <td>1399</td>\n",
              "      <td>703</td>\n",
              "      <td>1</td>\n",
              "      <td>2.7</td>\n",
              "      <td>0</td>\n",
              "      <td>12</td>\n",
              "      <td>1</td>\n",
              "      <td>30</td>\n",
              "      <td>0.3</td>\n",
              "      <td>113</td>\n",
              "      <td>1</td>\n",
              "      <td>20</td>\n",
              "      <td>218</td>\n",
              "      <td>1065</td>\n",
              "      <td>1472</td>\n",
              "      <td>14</td>\n",
              "      <td>7</td>\n",
              "      <td>7</td>\n",
              "      <td>1</td>\n",
              "      <td>0</td>\n",
              "      <td>0</td>\n",
              "      <td>0</td>\n",
              "      <td>232170.0</td>\n",
              "    </tr>\n",
              "    <tr>\n",
              "      <th>1399</th>\n",
              "      <td>1400</td>\n",
              "      <td>1064</td>\n",
              "      <td>0</td>\n",
              "      <td>2.9</td>\n",
              "      <td>1</td>\n",
              "      <td>1</td>\n",
              "      <td>1</td>\n",
              "      <td>34</td>\n",
              "      <td>0.2</td>\n",
              "      <td>184</td>\n",
              "      <td>6</td>\n",
              "      <td>13</td>\n",
              "      <td>1175</td>\n",
              "      <td>1569</td>\n",
              "      <td>654</td>\n",
              "      <td>16</td>\n",
              "      <td>13</td>\n",
              "      <td>6</td>\n",
              "      <td>1</td>\n",
              "      <td>0</td>\n",
              "      <td>0</td>\n",
              "      <td>0</td>\n",
              "      <td>1843575.0</td>\n",
              "    </tr>\n",
              "  </tbody>\n",
              "</table>\n",
              "<p>1400 rows × 23 columns</p>\n",
              "</div>"
            ],
            "text/plain": [
              "        id  battery_power  bluetooth  ...  wifi  price_range  Disp_Resolution\n",
              "0        1            807          1  ...     0            1         203105.0\n",
              "1        2           1065          1  ...     1            2         174464.0\n",
              "2        3           1171          1  ...     0            0         187240.0\n",
              "3        4            609          1  ...     1            1          72674.0\n",
              "4        5           1193          1  ...     0            2        2745568.0\n",
              "...    ...            ...        ...  ...   ...          ...              ...\n",
              "1395  1396           1100          1  ...     1            0        1235136.0\n",
              "1396  1397           1358          0  ...     1            3        2457675.0\n",
              "1397  1398           1034          1  ...     1            3         847693.0\n",
              "1398  1399            703          1  ...     0            0         232170.0\n",
              "1399  1400           1064          0  ...     0            0        1843575.0\n",
              "\n",
              "[1400 rows x 23 columns]"
            ]
          },
          "metadata": {},
          "execution_count": 8
        }
      ]
    },
    {
      "cell_type": "code",
      "metadata": {
        "id": "Ox1Y3b5NoUUr"
      },
      "source": [
        "test_data = pd.read_csv('test_data.csv')"
      ],
      "execution_count": null,
      "outputs": []
    },
    {
      "cell_type": "code",
      "metadata": {
        "colab": {
          "base_uri": "https://localhost:8080/"
        },
        "id": "MwIDDHrroZDq",
        "outputId": "f2bdeef1-2988-4e47-92cd-d609dfdb439c"
      },
      "source": [
        "test_data.info()"
      ],
      "execution_count": null,
      "outputs": [
        {
          "output_type": "stream",
          "name": "stdout",
          "text": [
            "<class 'pandas.core.frame.DataFrame'>\n",
            "RangeIndex: 600 entries, 0 to 599\n",
            "Data columns (total 21 columns):\n",
            " #   Column         Non-Null Count  Dtype  \n",
            "---  ------         --------------  -----  \n",
            " 0   id             600 non-null    int64  \n",
            " 1   battery_power  600 non-null    int64  \n",
            " 2   bluetooth      600 non-null    int64  \n",
            " 3   clock_speed    600 non-null    float64\n",
            " 4   dual_sim       600 non-null    int64  \n",
            " 5   fc             600 non-null    int64  \n",
            " 6   four_g         600 non-null    int64  \n",
            " 7   int_memory     600 non-null    int64  \n",
            " 8   m_dep          600 non-null    float64\n",
            " 9   mobile_wt      600 non-null    int64  \n",
            " 10  n_cores        600 non-null    int64  \n",
            " 11  pc             600 non-null    int64  \n",
            " 12  px_height      600 non-null    int64  \n",
            " 13  px_width       600 non-null    int64  \n",
            " 14  ram            600 non-null    int64  \n",
            " 15  sc_h           600 non-null    int64  \n",
            " 16  sc_w           600 non-null    int64  \n",
            " 17  talk_time      600 non-null    int64  \n",
            " 18  three_g        600 non-null    int64  \n",
            " 19  touch_screen   600 non-null    int64  \n",
            " 20  wifi           600 non-null    int64  \n",
            "dtypes: float64(2), int64(19)\n",
            "memory usage: 98.6 KB\n"
          ]
        }
      ]
    },
    {
      "cell_type": "code",
      "metadata": {
        "colab": {
          "base_uri": "https://localhost:8080/",
          "height": 206
        },
        "id": "3EQxhIw-obIu",
        "outputId": "8731030e-746d-471b-f9d6-cabe6617600c"
      },
      "source": [
        "test_data.head(5)"
      ],
      "execution_count": null,
      "outputs": [
        {
          "output_type": "execute_result",
          "data": {
            "text/html": [
              "<div>\n",
              "<style scoped>\n",
              "    .dataframe tbody tr th:only-of-type {\n",
              "        vertical-align: middle;\n",
              "    }\n",
              "\n",
              "    .dataframe tbody tr th {\n",
              "        vertical-align: top;\n",
              "    }\n",
              "\n",
              "    .dataframe thead th {\n",
              "        text-align: right;\n",
              "    }\n",
              "</style>\n",
              "<table border=\"1\" class=\"dataframe\">\n",
              "  <thead>\n",
              "    <tr style=\"text-align: right;\">\n",
              "      <th></th>\n",
              "      <th>id</th>\n",
              "      <th>battery_power</th>\n",
              "      <th>bluetooth</th>\n",
              "      <th>clock_speed</th>\n",
              "      <th>dual_sim</th>\n",
              "      <th>fc</th>\n",
              "      <th>four_g</th>\n",
              "      <th>int_memory</th>\n",
              "      <th>m_dep</th>\n",
              "      <th>mobile_wt</th>\n",
              "      <th>n_cores</th>\n",
              "      <th>pc</th>\n",
              "      <th>px_height</th>\n",
              "      <th>px_width</th>\n",
              "      <th>ram</th>\n",
              "      <th>sc_h</th>\n",
              "      <th>sc_w</th>\n",
              "      <th>talk_time</th>\n",
              "      <th>three_g</th>\n",
              "      <th>touch_screen</th>\n",
              "      <th>wifi</th>\n",
              "    </tr>\n",
              "  </thead>\n",
              "  <tbody>\n",
              "    <tr>\n",
              "      <th>0</th>\n",
              "      <td>1401</td>\n",
              "      <td>1572</td>\n",
              "      <td>1</td>\n",
              "      <td>0.8</td>\n",
              "      <td>1</td>\n",
              "      <td>7</td>\n",
              "      <td>1</td>\n",
              "      <td>8</td>\n",
              "      <td>0.8</td>\n",
              "      <td>169</td>\n",
              "      <td>5</td>\n",
              "      <td>8</td>\n",
              "      <td>577</td>\n",
              "      <td>1237</td>\n",
              "      <td>3461</td>\n",
              "      <td>6</td>\n",
              "      <td>3</td>\n",
              "      <td>10</td>\n",
              "      <td>1</td>\n",
              "      <td>1</td>\n",
              "      <td>1</td>\n",
              "    </tr>\n",
              "    <tr>\n",
              "      <th>1</th>\n",
              "      <td>1402</td>\n",
              "      <td>707</td>\n",
              "      <td>0</td>\n",
              "      <td>2.1</td>\n",
              "      <td>1</td>\n",
              "      <td>2</td>\n",
              "      <td>0</td>\n",
              "      <td>25</td>\n",
              "      <td>0.8</td>\n",
              "      <td>131</td>\n",
              "      <td>3</td>\n",
              "      <td>17</td>\n",
              "      <td>495</td>\n",
              "      <td>574</td>\n",
              "      <td>3838</td>\n",
              "      <td>9</td>\n",
              "      <td>2</td>\n",
              "      <td>7</td>\n",
              "      <td>1</td>\n",
              "      <td>0</td>\n",
              "      <td>1</td>\n",
              "    </tr>\n",
              "    <tr>\n",
              "      <th>2</th>\n",
              "      <td>1403</td>\n",
              "      <td>983</td>\n",
              "      <td>0</td>\n",
              "      <td>0.6</td>\n",
              "      <td>1</td>\n",
              "      <td>0</td>\n",
              "      <td>1</td>\n",
              "      <td>45</td>\n",
              "      <td>0.1</td>\n",
              "      <td>130</td>\n",
              "      <td>4</td>\n",
              "      <td>11</td>\n",
              "      <td>948</td>\n",
              "      <td>1205</td>\n",
              "      <td>2052</td>\n",
              "      <td>5</td>\n",
              "      <td>3</td>\n",
              "      <td>6</td>\n",
              "      <td>1</td>\n",
              "      <td>0</td>\n",
              "      <td>1</td>\n",
              "    </tr>\n",
              "    <tr>\n",
              "      <th>3</th>\n",
              "      <td>1404</td>\n",
              "      <td>827</td>\n",
              "      <td>1</td>\n",
              "      <td>0.6</td>\n",
              "      <td>1</td>\n",
              "      <td>9</td>\n",
              "      <td>1</td>\n",
              "      <td>35</td>\n",
              "      <td>0.2</td>\n",
              "      <td>87</td>\n",
              "      <td>6</td>\n",
              "      <td>17</td>\n",
              "      <td>23</td>\n",
              "      <td>826</td>\n",
              "      <td>2367</td>\n",
              "      <td>5</td>\n",
              "      <td>3</td>\n",
              "      <td>15</td>\n",
              "      <td>1</td>\n",
              "      <td>0</td>\n",
              "      <td>1</td>\n",
              "    </tr>\n",
              "    <tr>\n",
              "      <th>4</th>\n",
              "      <td>1405</td>\n",
              "      <td>1975</td>\n",
              "      <td>1</td>\n",
              "      <td>1.9</td>\n",
              "      <td>1</td>\n",
              "      <td>2</td>\n",
              "      <td>0</td>\n",
              "      <td>31</td>\n",
              "      <td>0.9</td>\n",
              "      <td>151</td>\n",
              "      <td>1</td>\n",
              "      <td>17</td>\n",
              "      <td>775</td>\n",
              "      <td>1607</td>\n",
              "      <td>3022</td>\n",
              "      <td>13</td>\n",
              "      <td>5</td>\n",
              "      <td>19</td>\n",
              "      <td>0</td>\n",
              "      <td>0</td>\n",
              "      <td>1</td>\n",
              "    </tr>\n",
              "  </tbody>\n",
              "</table>\n",
              "</div>"
            ],
            "text/plain": [
              "     id  battery_power  bluetooth  ...  three_g  touch_screen  wifi\n",
              "0  1401           1572          1  ...        1             1     1\n",
              "1  1402            707          0  ...        1             0     1\n",
              "2  1403            983          0  ...        1             0     1\n",
              "3  1404            827          1  ...        1             0     1\n",
              "4  1405           1975          1  ...        0             0     1\n",
              "\n",
              "[5 rows x 21 columns]"
            ]
          },
          "metadata": {},
          "execution_count": 11
        }
      ]
    },
    {
      "cell_type": "code",
      "metadata": {
        "id": "cybkBcu1bFQC"
      },
      "source": [
        "for ind, row in test_data.iterrows():\n",
        "  test_data.loc[ind,\"Disp_Resolution\"] = row['px_height']*row['px_width']"
      ],
      "execution_count": null,
      "outputs": []
    },
    {
      "cell_type": "code",
      "metadata": {
        "colab": {
          "base_uri": "https://localhost:8080/",
          "height": 443
        },
        "id": "QFwlVNHrbKbj",
        "outputId": "0a6cdf02-1319-42eb-e6dc-e2de6a2e4eec"
      },
      "source": [
        "test_data"
      ],
      "execution_count": null,
      "outputs": [
        {
          "output_type": "execute_result",
          "data": {
            "text/html": [
              "<div>\n",
              "<style scoped>\n",
              "    .dataframe tbody tr th:only-of-type {\n",
              "        vertical-align: middle;\n",
              "    }\n",
              "\n",
              "    .dataframe tbody tr th {\n",
              "        vertical-align: top;\n",
              "    }\n",
              "\n",
              "    .dataframe thead th {\n",
              "        text-align: right;\n",
              "    }\n",
              "</style>\n",
              "<table border=\"1\" class=\"dataframe\">\n",
              "  <thead>\n",
              "    <tr style=\"text-align: right;\">\n",
              "      <th></th>\n",
              "      <th>id</th>\n",
              "      <th>battery_power</th>\n",
              "      <th>bluetooth</th>\n",
              "      <th>clock_speed</th>\n",
              "      <th>dual_sim</th>\n",
              "      <th>fc</th>\n",
              "      <th>four_g</th>\n",
              "      <th>int_memory</th>\n",
              "      <th>m_dep</th>\n",
              "      <th>mobile_wt</th>\n",
              "      <th>n_cores</th>\n",
              "      <th>pc</th>\n",
              "      <th>px_height</th>\n",
              "      <th>px_width</th>\n",
              "      <th>ram</th>\n",
              "      <th>sc_h</th>\n",
              "      <th>sc_w</th>\n",
              "      <th>talk_time</th>\n",
              "      <th>three_g</th>\n",
              "      <th>touch_screen</th>\n",
              "      <th>wifi</th>\n",
              "      <th>Disp_Resolution</th>\n",
              "    </tr>\n",
              "  </thead>\n",
              "  <tbody>\n",
              "    <tr>\n",
              "      <th>0</th>\n",
              "      <td>1401</td>\n",
              "      <td>1572</td>\n",
              "      <td>1</td>\n",
              "      <td>0.8</td>\n",
              "      <td>1</td>\n",
              "      <td>7</td>\n",
              "      <td>1</td>\n",
              "      <td>8</td>\n",
              "      <td>0.8</td>\n",
              "      <td>169</td>\n",
              "      <td>5</td>\n",
              "      <td>8</td>\n",
              "      <td>577</td>\n",
              "      <td>1237</td>\n",
              "      <td>3461</td>\n",
              "      <td>6</td>\n",
              "      <td>3</td>\n",
              "      <td>10</td>\n",
              "      <td>1</td>\n",
              "      <td>1</td>\n",
              "      <td>1</td>\n",
              "      <td>713749.0</td>\n",
              "    </tr>\n",
              "    <tr>\n",
              "      <th>1</th>\n",
              "      <td>1402</td>\n",
              "      <td>707</td>\n",
              "      <td>0</td>\n",
              "      <td>2.1</td>\n",
              "      <td>1</td>\n",
              "      <td>2</td>\n",
              "      <td>0</td>\n",
              "      <td>25</td>\n",
              "      <td>0.8</td>\n",
              "      <td>131</td>\n",
              "      <td>3</td>\n",
              "      <td>17</td>\n",
              "      <td>495</td>\n",
              "      <td>574</td>\n",
              "      <td>3838</td>\n",
              "      <td>9</td>\n",
              "      <td>2</td>\n",
              "      <td>7</td>\n",
              "      <td>1</td>\n",
              "      <td>0</td>\n",
              "      <td>1</td>\n",
              "      <td>284130.0</td>\n",
              "    </tr>\n",
              "    <tr>\n",
              "      <th>2</th>\n",
              "      <td>1403</td>\n",
              "      <td>983</td>\n",
              "      <td>0</td>\n",
              "      <td>0.6</td>\n",
              "      <td>1</td>\n",
              "      <td>0</td>\n",
              "      <td>1</td>\n",
              "      <td>45</td>\n",
              "      <td>0.1</td>\n",
              "      <td>130</td>\n",
              "      <td>4</td>\n",
              "      <td>11</td>\n",
              "      <td>948</td>\n",
              "      <td>1205</td>\n",
              "      <td>2052</td>\n",
              "      <td>5</td>\n",
              "      <td>3</td>\n",
              "      <td>6</td>\n",
              "      <td>1</td>\n",
              "      <td>0</td>\n",
              "      <td>1</td>\n",
              "      <td>1142340.0</td>\n",
              "    </tr>\n",
              "    <tr>\n",
              "      <th>3</th>\n",
              "      <td>1404</td>\n",
              "      <td>827</td>\n",
              "      <td>1</td>\n",
              "      <td>0.6</td>\n",
              "      <td>1</td>\n",
              "      <td>9</td>\n",
              "      <td>1</td>\n",
              "      <td>35</td>\n",
              "      <td>0.2</td>\n",
              "      <td>87</td>\n",
              "      <td>6</td>\n",
              "      <td>17</td>\n",
              "      <td>23</td>\n",
              "      <td>826</td>\n",
              "      <td>2367</td>\n",
              "      <td>5</td>\n",
              "      <td>3</td>\n",
              "      <td>15</td>\n",
              "      <td>1</td>\n",
              "      <td>0</td>\n",
              "      <td>1</td>\n",
              "      <td>18998.0</td>\n",
              "    </tr>\n",
              "    <tr>\n",
              "      <th>4</th>\n",
              "      <td>1405</td>\n",
              "      <td>1975</td>\n",
              "      <td>1</td>\n",
              "      <td>1.9</td>\n",
              "      <td>1</td>\n",
              "      <td>2</td>\n",
              "      <td>0</td>\n",
              "      <td>31</td>\n",
              "      <td>0.9</td>\n",
              "      <td>151</td>\n",
              "      <td>1</td>\n",
              "      <td>17</td>\n",
              "      <td>775</td>\n",
              "      <td>1607</td>\n",
              "      <td>3022</td>\n",
              "      <td>13</td>\n",
              "      <td>5</td>\n",
              "      <td>19</td>\n",
              "      <td>0</td>\n",
              "      <td>0</td>\n",
              "      <td>1</td>\n",
              "      <td>1245425.0</td>\n",
              "    </tr>\n",
              "    <tr>\n",
              "      <th>...</th>\n",
              "      <td>...</td>\n",
              "      <td>...</td>\n",
              "      <td>...</td>\n",
              "      <td>...</td>\n",
              "      <td>...</td>\n",
              "      <td>...</td>\n",
              "      <td>...</td>\n",
              "      <td>...</td>\n",
              "      <td>...</td>\n",
              "      <td>...</td>\n",
              "      <td>...</td>\n",
              "      <td>...</td>\n",
              "      <td>...</td>\n",
              "      <td>...</td>\n",
              "      <td>...</td>\n",
              "      <td>...</td>\n",
              "      <td>...</td>\n",
              "      <td>...</td>\n",
              "      <td>...</td>\n",
              "      <td>...</td>\n",
              "      <td>...</td>\n",
              "      <td>...</td>\n",
              "    </tr>\n",
              "    <tr>\n",
              "      <th>595</th>\n",
              "      <td>1996</td>\n",
              "      <td>707</td>\n",
              "      <td>0</td>\n",
              "      <td>0.5</td>\n",
              "      <td>0</td>\n",
              "      <td>0</td>\n",
              "      <td>1</td>\n",
              "      <td>16</td>\n",
              "      <td>0.1</td>\n",
              "      <td>194</td>\n",
              "      <td>2</td>\n",
              "      <td>0</td>\n",
              "      <td>1027</td>\n",
              "      <td>1508</td>\n",
              "      <td>1853</td>\n",
              "      <td>17</td>\n",
              "      <td>14</td>\n",
              "      <td>12</td>\n",
              "      <td>1</td>\n",
              "      <td>1</td>\n",
              "      <td>1</td>\n",
              "      <td>1548716.0</td>\n",
              "    </tr>\n",
              "    <tr>\n",
              "      <th>596</th>\n",
              "      <td>1997</td>\n",
              "      <td>888</td>\n",
              "      <td>0</td>\n",
              "      <td>2.6</td>\n",
              "      <td>1</td>\n",
              "      <td>2</td>\n",
              "      <td>1</td>\n",
              "      <td>33</td>\n",
              "      <td>0.4</td>\n",
              "      <td>198</td>\n",
              "      <td>2</td>\n",
              "      <td>17</td>\n",
              "      <td>327</td>\n",
              "      <td>1683</td>\n",
              "      <td>3407</td>\n",
              "      <td>12</td>\n",
              "      <td>1</td>\n",
              "      <td>20</td>\n",
              "      <td>1</td>\n",
              "      <td>0</td>\n",
              "      <td>0</td>\n",
              "      <td>550341.0</td>\n",
              "    </tr>\n",
              "    <tr>\n",
              "      <th>597</th>\n",
              "      <td>1998</td>\n",
              "      <td>1130</td>\n",
              "      <td>0</td>\n",
              "      <td>1.8</td>\n",
              "      <td>1</td>\n",
              "      <td>0</td>\n",
              "      <td>0</td>\n",
              "      <td>27</td>\n",
              "      <td>0.9</td>\n",
              "      <td>101</td>\n",
              "      <td>1</td>\n",
              "      <td>8</td>\n",
              "      <td>1495</td>\n",
              "      <td>1579</td>\n",
              "      <td>315</td>\n",
              "      <td>14</td>\n",
              "      <td>5</td>\n",
              "      <td>11</td>\n",
              "      <td>1</td>\n",
              "      <td>1</td>\n",
              "      <td>0</td>\n",
              "      <td>2360605.0</td>\n",
              "    </tr>\n",
              "    <tr>\n",
              "      <th>598</th>\n",
              "      <td>1999</td>\n",
              "      <td>837</td>\n",
              "      <td>0</td>\n",
              "      <td>2.4</td>\n",
              "      <td>1</td>\n",
              "      <td>1</td>\n",
              "      <td>0</td>\n",
              "      <td>51</td>\n",
              "      <td>0.2</td>\n",
              "      <td>104</td>\n",
              "      <td>5</td>\n",
              "      <td>15</td>\n",
              "      <td>638</td>\n",
              "      <td>1831</td>\n",
              "      <td>594</td>\n",
              "      <td>16</td>\n",
              "      <td>6</td>\n",
              "      <td>20</td>\n",
              "      <td>1</td>\n",
              "      <td>0</td>\n",
              "      <td>1</td>\n",
              "      <td>1168178.0</td>\n",
              "    </tr>\n",
              "    <tr>\n",
              "      <th>599</th>\n",
              "      <td>2000</td>\n",
              "      <td>1866</td>\n",
              "      <td>0</td>\n",
              "      <td>1.4</td>\n",
              "      <td>0</td>\n",
              "      <td>0</td>\n",
              "      <td>0</td>\n",
              "      <td>30</td>\n",
              "      <td>0.5</td>\n",
              "      <td>182</td>\n",
              "      <td>3</td>\n",
              "      <td>0</td>\n",
              "      <td>108</td>\n",
              "      <td>1781</td>\n",
              "      <td>3834</td>\n",
              "      <td>16</td>\n",
              "      <td>11</td>\n",
              "      <td>8</td>\n",
              "      <td>0</td>\n",
              "      <td>0</td>\n",
              "      <td>0</td>\n",
              "      <td>192348.0</td>\n",
              "    </tr>\n",
              "  </tbody>\n",
              "</table>\n",
              "<p>600 rows × 22 columns</p>\n",
              "</div>"
            ],
            "text/plain": [
              "       id  battery_power  bluetooth  ...  touch_screen  wifi  Disp_Resolution\n",
              "0    1401           1572          1  ...             1     1         713749.0\n",
              "1    1402            707          0  ...             0     1         284130.0\n",
              "2    1403            983          0  ...             0     1        1142340.0\n",
              "3    1404            827          1  ...             0     1          18998.0\n",
              "4    1405           1975          1  ...             0     1        1245425.0\n",
              "..    ...            ...        ...  ...           ...   ...              ...\n",
              "595  1996            707          0  ...             1     1        1548716.0\n",
              "596  1997            888          0  ...             0     0         550341.0\n",
              "597  1998           1130          0  ...             1     0        2360605.0\n",
              "598  1999            837          0  ...             0     1        1168178.0\n",
              "599  2000           1866          0  ...             0     0         192348.0\n",
              "\n",
              "[600 rows x 22 columns]"
            ]
          },
          "metadata": {},
          "execution_count": 13
        }
      ]
    },
    {
      "cell_type": "code",
      "metadata": {
        "colab": {
          "base_uri": "https://localhost:8080/"
        },
        "id": "9pHocToM5qlH",
        "outputId": "19c3609c-f2dc-416e-8cd1-1f355b2a45bf"
      },
      "source": [
        "test_data.info()"
      ],
      "execution_count": null,
      "outputs": [
        {
          "output_type": "stream",
          "name": "stdout",
          "text": [
            "<class 'pandas.core.frame.DataFrame'>\n",
            "RangeIndex: 600 entries, 0 to 599\n",
            "Data columns (total 22 columns):\n",
            " #   Column           Non-Null Count  Dtype  \n",
            "---  ------           --------------  -----  \n",
            " 0   id               600 non-null    int64  \n",
            " 1   battery_power    600 non-null    int64  \n",
            " 2   bluetooth        600 non-null    int64  \n",
            " 3   clock_speed      600 non-null    float64\n",
            " 4   dual_sim         600 non-null    int64  \n",
            " 5   fc               600 non-null    int64  \n",
            " 6   four_g           600 non-null    int64  \n",
            " 7   int_memory       600 non-null    int64  \n",
            " 8   m_dep            600 non-null    float64\n",
            " 9   mobile_wt        600 non-null    int64  \n",
            " 10  n_cores          600 non-null    int64  \n",
            " 11  pc               600 non-null    int64  \n",
            " 12  px_height        600 non-null    int64  \n",
            " 13  px_width         600 non-null    int64  \n",
            " 14  ram              600 non-null    int64  \n",
            " 15  sc_h             600 non-null    int64  \n",
            " 16  sc_w             600 non-null    int64  \n",
            " 17  talk_time        600 non-null    int64  \n",
            " 18  three_g          600 non-null    int64  \n",
            " 19  touch_screen     600 non-null    int64  \n",
            " 20  wifi             600 non-null    int64  \n",
            " 21  Disp_Resolution  600 non-null    float64\n",
            "dtypes: float64(3), int64(19)\n",
            "memory usage: 103.2 KB\n"
          ]
        }
      ]
    },
    {
      "cell_type": "code",
      "metadata": {
        "id": "n_lHnlXxojGh"
      },
      "source": [
        "sample_submission_data = pd.read_csv('sample_submission.csv')"
      ],
      "execution_count": null,
      "outputs": []
    },
    {
      "cell_type": "code",
      "metadata": {
        "colab": {
          "base_uri": "https://localhost:8080/",
          "height": 206
        },
        "id": "gppdnjJ7ouEH",
        "outputId": "858732ed-ea24-4df6-8085-35ec4f13ff88"
      },
      "source": [
        "sample_submission_data.head(5)"
      ],
      "execution_count": null,
      "outputs": [
        {
          "output_type": "execute_result",
          "data": {
            "text/html": [
              "<div>\n",
              "<style scoped>\n",
              "    .dataframe tbody tr th:only-of-type {\n",
              "        vertical-align: middle;\n",
              "    }\n",
              "\n",
              "    .dataframe tbody tr th {\n",
              "        vertical-align: top;\n",
              "    }\n",
              "\n",
              "    .dataframe thead th {\n",
              "        text-align: right;\n",
              "    }\n",
              "</style>\n",
              "<table border=\"1\" class=\"dataframe\">\n",
              "  <thead>\n",
              "    <tr style=\"text-align: right;\">\n",
              "      <th></th>\n",
              "      <th>id</th>\n",
              "      <th>price_range</th>\n",
              "    </tr>\n",
              "  </thead>\n",
              "  <tbody>\n",
              "    <tr>\n",
              "      <th>0</th>\n",
              "      <td>1401</td>\n",
              "      <td>0</td>\n",
              "    </tr>\n",
              "    <tr>\n",
              "      <th>1</th>\n",
              "      <td>1402</td>\n",
              "      <td>2</td>\n",
              "    </tr>\n",
              "    <tr>\n",
              "      <th>2</th>\n",
              "      <td>1403</td>\n",
              "      <td>1</td>\n",
              "    </tr>\n",
              "    <tr>\n",
              "      <th>3</th>\n",
              "      <td>1404</td>\n",
              "      <td>1</td>\n",
              "    </tr>\n",
              "    <tr>\n",
              "      <th>4</th>\n",
              "      <td>1405</td>\n",
              "      <td>3</td>\n",
              "    </tr>\n",
              "  </tbody>\n",
              "</table>\n",
              "</div>"
            ],
            "text/plain": [
              "     id  price_range\n",
              "0  1401            0\n",
              "1  1402            2\n",
              "2  1403            1\n",
              "3  1404            1\n",
              "4  1405            3"
            ]
          },
          "metadata": {},
          "execution_count": 16
        }
      ]
    },
    {
      "cell_type": "code",
      "metadata": {
        "colab": {
          "base_uri": "https://localhost:8080/"
        },
        "id": "oZAr1FyE7DsY",
        "outputId": "eefe7a32-4717-4bd8-c33e-4dfd80681351"
      },
      "source": [
        "y_true = sample_submission_data['price_range']\n",
        "y_true"
      ],
      "execution_count": null,
      "outputs": [
        {
          "output_type": "execute_result",
          "data": {
            "text/plain": [
              "0      0\n",
              "1      2\n",
              "2      1\n",
              "3      1\n",
              "4      3\n",
              "      ..\n",
              "595    0\n",
              "596    1\n",
              "597    3\n",
              "598    0\n",
              "599    3\n",
              "Name: price_range, Length: 600, dtype: int64"
            ]
          },
          "metadata": {},
          "execution_count": 17
        }
      ]
    },
    {
      "cell_type": "code",
      "metadata": {
        "colab": {
          "base_uri": "https://localhost:8080/"
        },
        "id": "U6Z6ILIgBSsn",
        "outputId": "566c82ea-6c96-4f1e-ea93-ff8a4ba5cb76"
      },
      "source": [
        "y_true.unique()\n"
      ],
      "execution_count": null,
      "outputs": [
        {
          "output_type": "execute_result",
          "data": {
            "text/plain": [
              "array([0, 2, 1, 3])"
            ]
          },
          "metadata": {},
          "execution_count": 18
        }
      ]
    },
    {
      "cell_type": "markdown",
      "metadata": {
        "id": "yjT8PNVkiD4H"
      },
      "source": [
        "\n",
        "### **Part C: Train & test split**"
      ]
    },
    {
      "cell_type": "markdown",
      "metadata": {
        "id": "TZxO0fAco32O"
      },
      "source": [
        "**1. Splitting the dataset in train & test data:**"
      ]
    },
    {
      "cell_type": "code",
      "metadata": {
        "id": "mxqwBpOmoyf1"
      },
      "source": [
        "x_train = train_data.drop(columns=['price_range','id'])                                      # id is unique & price-range is target variable\n",
        "y_train = train_data['price_range']                                                          # price-range is target variable"
      ],
      "execution_count": null,
      "outputs": []
    },
    {
      "cell_type": "code",
      "metadata": {
        "id": "hBknQgUapKKL"
      },
      "source": [
        "x_test = test_data.drop(columns=['id'])                                                        # id is unique\n"
      ],
      "execution_count": null,
      "outputs": []
    },
    {
      "cell_type": "code",
      "metadata": {
        "colab": {
          "base_uri": "https://localhost:8080/",
          "height": 443
        },
        "id": "vTrUPwj36Nk8",
        "outputId": "4b1cdd08-1c89-453a-82a3-74ea21ddfa4f"
      },
      "source": [
        "x_test"
      ],
      "execution_count": null,
      "outputs": [
        {
          "output_type": "execute_result",
          "data": {
            "text/html": [
              "<div>\n",
              "<style scoped>\n",
              "    .dataframe tbody tr th:only-of-type {\n",
              "        vertical-align: middle;\n",
              "    }\n",
              "\n",
              "    .dataframe tbody tr th {\n",
              "        vertical-align: top;\n",
              "    }\n",
              "\n",
              "    .dataframe thead th {\n",
              "        text-align: right;\n",
              "    }\n",
              "</style>\n",
              "<table border=\"1\" class=\"dataframe\">\n",
              "  <thead>\n",
              "    <tr style=\"text-align: right;\">\n",
              "      <th></th>\n",
              "      <th>battery_power</th>\n",
              "      <th>bluetooth</th>\n",
              "      <th>clock_speed</th>\n",
              "      <th>dual_sim</th>\n",
              "      <th>fc</th>\n",
              "      <th>four_g</th>\n",
              "      <th>int_memory</th>\n",
              "      <th>m_dep</th>\n",
              "      <th>mobile_wt</th>\n",
              "      <th>n_cores</th>\n",
              "      <th>pc</th>\n",
              "      <th>px_height</th>\n",
              "      <th>px_width</th>\n",
              "      <th>ram</th>\n",
              "      <th>sc_h</th>\n",
              "      <th>sc_w</th>\n",
              "      <th>talk_time</th>\n",
              "      <th>three_g</th>\n",
              "      <th>touch_screen</th>\n",
              "      <th>wifi</th>\n",
              "      <th>Disp_Resolution</th>\n",
              "    </tr>\n",
              "  </thead>\n",
              "  <tbody>\n",
              "    <tr>\n",
              "      <th>0</th>\n",
              "      <td>1572</td>\n",
              "      <td>1</td>\n",
              "      <td>0.8</td>\n",
              "      <td>1</td>\n",
              "      <td>7</td>\n",
              "      <td>1</td>\n",
              "      <td>8</td>\n",
              "      <td>0.8</td>\n",
              "      <td>169</td>\n",
              "      <td>5</td>\n",
              "      <td>8</td>\n",
              "      <td>577</td>\n",
              "      <td>1237</td>\n",
              "      <td>3461</td>\n",
              "      <td>6</td>\n",
              "      <td>3</td>\n",
              "      <td>10</td>\n",
              "      <td>1</td>\n",
              "      <td>1</td>\n",
              "      <td>1</td>\n",
              "      <td>713749.0</td>\n",
              "    </tr>\n",
              "    <tr>\n",
              "      <th>1</th>\n",
              "      <td>707</td>\n",
              "      <td>0</td>\n",
              "      <td>2.1</td>\n",
              "      <td>1</td>\n",
              "      <td>2</td>\n",
              "      <td>0</td>\n",
              "      <td>25</td>\n",
              "      <td>0.8</td>\n",
              "      <td>131</td>\n",
              "      <td>3</td>\n",
              "      <td>17</td>\n",
              "      <td>495</td>\n",
              "      <td>574</td>\n",
              "      <td>3838</td>\n",
              "      <td>9</td>\n",
              "      <td>2</td>\n",
              "      <td>7</td>\n",
              "      <td>1</td>\n",
              "      <td>0</td>\n",
              "      <td>1</td>\n",
              "      <td>284130.0</td>\n",
              "    </tr>\n",
              "    <tr>\n",
              "      <th>2</th>\n",
              "      <td>983</td>\n",
              "      <td>0</td>\n",
              "      <td>0.6</td>\n",
              "      <td>1</td>\n",
              "      <td>0</td>\n",
              "      <td>1</td>\n",
              "      <td>45</td>\n",
              "      <td>0.1</td>\n",
              "      <td>130</td>\n",
              "      <td>4</td>\n",
              "      <td>11</td>\n",
              "      <td>948</td>\n",
              "      <td>1205</td>\n",
              "      <td>2052</td>\n",
              "      <td>5</td>\n",
              "      <td>3</td>\n",
              "      <td>6</td>\n",
              "      <td>1</td>\n",
              "      <td>0</td>\n",
              "      <td>1</td>\n",
              "      <td>1142340.0</td>\n",
              "    </tr>\n",
              "    <tr>\n",
              "      <th>3</th>\n",
              "      <td>827</td>\n",
              "      <td>1</td>\n",
              "      <td>0.6</td>\n",
              "      <td>1</td>\n",
              "      <td>9</td>\n",
              "      <td>1</td>\n",
              "      <td>35</td>\n",
              "      <td>0.2</td>\n",
              "      <td>87</td>\n",
              "      <td>6</td>\n",
              "      <td>17</td>\n",
              "      <td>23</td>\n",
              "      <td>826</td>\n",
              "      <td>2367</td>\n",
              "      <td>5</td>\n",
              "      <td>3</td>\n",
              "      <td>15</td>\n",
              "      <td>1</td>\n",
              "      <td>0</td>\n",
              "      <td>1</td>\n",
              "      <td>18998.0</td>\n",
              "    </tr>\n",
              "    <tr>\n",
              "      <th>4</th>\n",
              "      <td>1975</td>\n",
              "      <td>1</td>\n",
              "      <td>1.9</td>\n",
              "      <td>1</td>\n",
              "      <td>2</td>\n",
              "      <td>0</td>\n",
              "      <td>31</td>\n",
              "      <td>0.9</td>\n",
              "      <td>151</td>\n",
              "      <td>1</td>\n",
              "      <td>17</td>\n",
              "      <td>775</td>\n",
              "      <td>1607</td>\n",
              "      <td>3022</td>\n",
              "      <td>13</td>\n",
              "      <td>5</td>\n",
              "      <td>19</td>\n",
              "      <td>0</td>\n",
              "      <td>0</td>\n",
              "      <td>1</td>\n",
              "      <td>1245425.0</td>\n",
              "    </tr>\n",
              "    <tr>\n",
              "      <th>...</th>\n",
              "      <td>...</td>\n",
              "      <td>...</td>\n",
              "      <td>...</td>\n",
              "      <td>...</td>\n",
              "      <td>...</td>\n",
              "      <td>...</td>\n",
              "      <td>...</td>\n",
              "      <td>...</td>\n",
              "      <td>...</td>\n",
              "      <td>...</td>\n",
              "      <td>...</td>\n",
              "      <td>...</td>\n",
              "      <td>...</td>\n",
              "      <td>...</td>\n",
              "      <td>...</td>\n",
              "      <td>...</td>\n",
              "      <td>...</td>\n",
              "      <td>...</td>\n",
              "      <td>...</td>\n",
              "      <td>...</td>\n",
              "      <td>...</td>\n",
              "    </tr>\n",
              "    <tr>\n",
              "      <th>595</th>\n",
              "      <td>707</td>\n",
              "      <td>0</td>\n",
              "      <td>0.5</td>\n",
              "      <td>0</td>\n",
              "      <td>0</td>\n",
              "      <td>1</td>\n",
              "      <td>16</td>\n",
              "      <td>0.1</td>\n",
              "      <td>194</td>\n",
              "      <td>2</td>\n",
              "      <td>0</td>\n",
              "      <td>1027</td>\n",
              "      <td>1508</td>\n",
              "      <td>1853</td>\n",
              "      <td>17</td>\n",
              "      <td>14</td>\n",
              "      <td>12</td>\n",
              "      <td>1</td>\n",
              "      <td>1</td>\n",
              "      <td>1</td>\n",
              "      <td>1548716.0</td>\n",
              "    </tr>\n",
              "    <tr>\n",
              "      <th>596</th>\n",
              "      <td>888</td>\n",
              "      <td>0</td>\n",
              "      <td>2.6</td>\n",
              "      <td>1</td>\n",
              "      <td>2</td>\n",
              "      <td>1</td>\n",
              "      <td>33</td>\n",
              "      <td>0.4</td>\n",
              "      <td>198</td>\n",
              "      <td>2</td>\n",
              "      <td>17</td>\n",
              "      <td>327</td>\n",
              "      <td>1683</td>\n",
              "      <td>3407</td>\n",
              "      <td>12</td>\n",
              "      <td>1</td>\n",
              "      <td>20</td>\n",
              "      <td>1</td>\n",
              "      <td>0</td>\n",
              "      <td>0</td>\n",
              "      <td>550341.0</td>\n",
              "    </tr>\n",
              "    <tr>\n",
              "      <th>597</th>\n",
              "      <td>1130</td>\n",
              "      <td>0</td>\n",
              "      <td>1.8</td>\n",
              "      <td>1</td>\n",
              "      <td>0</td>\n",
              "      <td>0</td>\n",
              "      <td>27</td>\n",
              "      <td>0.9</td>\n",
              "      <td>101</td>\n",
              "      <td>1</td>\n",
              "      <td>8</td>\n",
              "      <td>1495</td>\n",
              "      <td>1579</td>\n",
              "      <td>315</td>\n",
              "      <td>14</td>\n",
              "      <td>5</td>\n",
              "      <td>11</td>\n",
              "      <td>1</td>\n",
              "      <td>1</td>\n",
              "      <td>0</td>\n",
              "      <td>2360605.0</td>\n",
              "    </tr>\n",
              "    <tr>\n",
              "      <th>598</th>\n",
              "      <td>837</td>\n",
              "      <td>0</td>\n",
              "      <td>2.4</td>\n",
              "      <td>1</td>\n",
              "      <td>1</td>\n",
              "      <td>0</td>\n",
              "      <td>51</td>\n",
              "      <td>0.2</td>\n",
              "      <td>104</td>\n",
              "      <td>5</td>\n",
              "      <td>15</td>\n",
              "      <td>638</td>\n",
              "      <td>1831</td>\n",
              "      <td>594</td>\n",
              "      <td>16</td>\n",
              "      <td>6</td>\n",
              "      <td>20</td>\n",
              "      <td>1</td>\n",
              "      <td>0</td>\n",
              "      <td>1</td>\n",
              "      <td>1168178.0</td>\n",
              "    </tr>\n",
              "    <tr>\n",
              "      <th>599</th>\n",
              "      <td>1866</td>\n",
              "      <td>0</td>\n",
              "      <td>1.4</td>\n",
              "      <td>0</td>\n",
              "      <td>0</td>\n",
              "      <td>0</td>\n",
              "      <td>30</td>\n",
              "      <td>0.5</td>\n",
              "      <td>182</td>\n",
              "      <td>3</td>\n",
              "      <td>0</td>\n",
              "      <td>108</td>\n",
              "      <td>1781</td>\n",
              "      <td>3834</td>\n",
              "      <td>16</td>\n",
              "      <td>11</td>\n",
              "      <td>8</td>\n",
              "      <td>0</td>\n",
              "      <td>0</td>\n",
              "      <td>0</td>\n",
              "      <td>192348.0</td>\n",
              "    </tr>\n",
              "  </tbody>\n",
              "</table>\n",
              "<p>600 rows × 21 columns</p>\n",
              "</div>"
            ],
            "text/plain": [
              "     battery_power  bluetooth  clock_speed  ...  touch_screen  wifi  Disp_Resolution\n",
              "0             1572          1          0.8  ...             1     1         713749.0\n",
              "1              707          0          2.1  ...             0     1         284130.0\n",
              "2              983          0          0.6  ...             0     1        1142340.0\n",
              "3              827          1          0.6  ...             0     1          18998.0\n",
              "4             1975          1          1.9  ...             0     1        1245425.0\n",
              "..             ...        ...          ...  ...           ...   ...              ...\n",
              "595            707          0          0.5  ...             1     1        1548716.0\n",
              "596            888          0          2.6  ...             0     0         550341.0\n",
              "597           1130          0          1.8  ...             1     0        2360605.0\n",
              "598            837          0          2.4  ...             0     1        1168178.0\n",
              "599           1866          0          1.4  ...             0     0         192348.0\n",
              "\n",
              "[600 rows x 21 columns]"
            ]
          },
          "metadata": {},
          "execution_count": 21
        }
      ]
    },
    {
      "cell_type": "code",
      "metadata": {
        "colab": {
          "base_uri": "https://localhost:8080/"
        },
        "id": "lsy4FHuzpQpV",
        "outputId": "2a9cf00d-1baf-4eba-b58f-d25cd9e9a332"
      },
      "source": [
        "train_data['price_range'].unique()"
      ],
      "execution_count": null,
      "outputs": [
        {
          "output_type": "execute_result",
          "data": {
            "text/plain": [
              "array([1, 2, 0, 3])"
            ]
          },
          "metadata": {},
          "execution_count": 22
        }
      ]
    },
    {
      "cell_type": "code",
      "metadata": {
        "colab": {
          "base_uri": "https://localhost:8080/"
        },
        "id": "TvkmHYl6pai0",
        "outputId": "5452bd46-fb2e-4514-a676-429f70d31d09"
      },
      "source": [
        "y_train.value_counts()"
      ],
      "execution_count": null,
      "outputs": [
        {
          "output_type": "execute_result",
          "data": {
            "text/plain": [
              "3    350\n",
              "2    350\n",
              "1    350\n",
              "0    350\n",
              "Name: price_range, dtype: int64"
            ]
          },
          "metadata": {},
          "execution_count": 23
        }
      ]
    },
    {
      "cell_type": "markdown",
      "metadata": {
        "id": "-ksDDu_Qph6W"
      },
      "source": [
        "* ## **Interpretation**: This is a case of multiclass classification with balanced dataset."
      ]
    },
    {
      "cell_type": "markdown",
      "metadata": {
        "id": "IME5TUvmmOvd"
      },
      "source": [
        "## **Part c- 2. Feature Importance:**"
      ]
    },
    {
      "cell_type": "code",
      "metadata": {
        "colab": {
          "base_uri": "https://localhost:8080/",
          "height": 334
        },
        "id": "RU89JAzTlnih",
        "outputId": "74c5121d-8cf1-4b16-96be-12d99391732b"
      },
      "source": [
        "import pandas as pd\n",
        "import numpy as np\n",
        "\n",
        "\n",
        "from sklearn.ensemble import ExtraTreesClassifier\n",
        "import matplotlib.pyplot as plt\n",
        "\n",
        "amodel = ExtraTreesClassifier()\n",
        "amodel.fit(x_train,y_train)\n",
        "print(amodel.feature_importances_)                                              #use inbuilt class feature_importances of tree based classifiers\n",
        "                                                                                #plot graph of feature importances for better visualization\n",
        "feat_importances = pd.Series(amodel.feature_importances_, index=x_train.columns)\n",
        "feat_importances.nlargest(20).plot(kind='barh')\n",
        "plt.show()"
      ],
      "execution_count": null,
      "outputs": [
        {
          "output_type": "stream",
          "name": "stdout",
          "text": [
            "[0.05674097 0.02014341 0.03443262 0.01991932 0.03002997 0.0171915\n",
            " 0.03626077 0.03428153 0.03525483 0.03296405 0.03295379 0.03997182\n",
            " 0.04415222 0.3651625  0.03540438 0.03364681 0.03655568 0.01448013\n",
            " 0.01679216 0.02133416 0.04232738]\n"
          ]
        },
        {
          "output_type": "display_data",
          "data": {
            "image/png": "[encoded data removed]",
            "text/plain": [
              "<Figure size 432x288 with 1 Axes>"
            ]
          },
          "metadata": {
            "needs_background": "light"
          }
        }
      ]
    },
    {
      "cell_type": "markdown",
      "metadata": {
        "id": "XaWwhQzHFljd"
      },
      "source": [
        "* **Interpretation:** The most important features contributing to predict mobile price are ram, battery_power, px_width, Disp_Resolution, px_height and int_memory\n"
      ]
    },
    {
      "cell_type": "code",
      "metadata": {
        "colab": {
          "base_uri": "https://localhost:8080/",
          "height": 1000
        },
        "id": "1iXzOJnCmy9G",
        "outputId": "9e0404e1-0a68-4876-da42-0ff83a37ccd0"
      },
      "source": [
        "import pandas as pd\n",
        "import numpy as np\n",
        "import seaborn as sns\n",
        "\n",
        "combined = [train_data,test_data] \n",
        "dataset = pd.concat(combined, sort=False)\n",
        "\n",
        "aa = dataset.corr(method='pearson')\n",
        "#get correlations of each features in dataset\n",
        "\n",
        "top_corr_features = aa.index\n",
        "plt.figure(figsize=(20,20))\n",
        "#plot heat map\n",
        "g=sns.heatmap(aa[top_corr_features].corr(),annot=True,cmap=\"cubehelix\")"
      ],
      "execution_count": null,
      "outputs": [
        {
          "output_type": "display_data",
          "data": {
            "image/png": "[encoded data removed]",
            "text/plain": [
              "<Figure size 1440x1440 with 2 Axes>"
            ]
          },
          "metadata": {
            "needs_background": "light"
          }
        }
      ]
    },
    {
      "cell_type": "markdown",
      "metadata": {
        "id": "3QJPJaOvG9eR"
      },
      "source": [
        "* **Interpretation:**\n",
        "* Heatmap provides us with a visual depiction of the relationship between the variables.\n",
        "\n",
        "* The correlation coefficient has values between -1 to 1:\n",
        "\n",
        "1. A value closer to 0 implies weaker correlation (exact 0 implying no correlation)\n",
        "2. A value closer to 1 implies stronger positive correlation\n",
        "3. A value closer to -1 implies stronger negative correlation\n",
        "\n",
        "We will only select features which has the highest correlation with respect to target variable having p-value <= 0.05\n",
        "\n",
        "Hence, variables satisfying above condition are ram, px_height, px_width, Disp_Resolution and battery power.\n",
        "\n",
        "To predict a mobile-price range, these are the most significant factors and are independent of each other. \n",
        "\n"
      ]
    },
    {
      "cell_type": "markdown",
      "metadata": {
        "id": "J9Q0T_wx7qcR"
      },
      "source": [
        "## **Part c- 3. Feature Selection:**"
      ]
    },
    {
      "cell_type": "code",
      "metadata": {
        "colab": {
          "base_uri": "https://localhost:8080/"
        },
        "id": "Ik2gE3xOxoiq",
        "outputId": "82d738ed-963b-4b3a-eea1-ac2c3e99fd7b"
      },
      "source": [
        "pip install statsmodels"
      ],
      "execution_count": null,
      "outputs": [
        {
          "output_type": "stream",
          "name": "stdout",
          "text": [
            "Requirement already satisfied: statsmodels in /usr/local/lib/python3.7/dist-packages (0.10.2)\n",
            "Requirement already satisfied: scipy>=0.18 in /usr/local/lib/python3.7/dist-packages (from statsmodels) (1.4.1)\n",
            "Requirement already satisfied: numpy>=1.11 in /usr/local/lib/python3.7/dist-packages (from statsmodels) (1.19.5)\n",
            "Requirement already satisfied: pandas>=0.19 in /usr/local/lib/python3.7/dist-packages (from statsmodels) (1.1.5)\n",
            "Requirement already satisfied: patsy>=0.4.0 in /usr/local/lib/python3.7/dist-packages (from statsmodels) (0.5.2)\n",
            "Requirement already satisfied: python-dateutil>=2.7.3 in /usr/local/lib/python3.7/dist-packages (from pandas>=0.19->statsmodels) (2.8.2)\n",
            "Requirement already satisfied: pytz>=2017.2 in /usr/local/lib/python3.7/dist-packages (from pandas>=0.19->statsmodels) (2018.9)\n",
            "Requirement already satisfied: six in /usr/local/lib/python3.7/dist-packages (from patsy>=0.4.0->statsmodels) (1.15.0)\n"
          ]
        }
      ]
    },
    {
      "cell_type": "code",
      "metadata": {
        "id": "LpAdQ6w5yZIZ"
      },
      "source": [
        "import statsmodels.api as sm\n",
        "import pandas as pd"
      ],
      "execution_count": null,
      "outputs": []
    },
    {
      "cell_type": "code",
      "metadata": {
        "id": "pYsKzDfmyd-z"
      },
      "source": [
        "result = sm.OLS(train_data['price_range']  , train_data[['battery_power', 'bluetooth', 'clock_speed', 'dual_sim', 'fc','four_g',\n",
        "       'int_memory', 'm_dep', 'mobile_wt', 'n_cores', 'pc', 'px_height', 'px_width', 'ram', 'sc_h', 'sc_w', 'talk_time', 'three_g', 'touch_screen', 'wifi', 'Disp_Resolution']]).fit()"
      ],
      "execution_count": null,
      "outputs": []
    },
    {
      "cell_type": "markdown",
      "metadata": {
        "id": "dAQBmujm2MJ0"
      },
      "source": [
        "result = sm.OLS(train_data['price_range']  , x_trainscale[['battery_power', 'bluetooth', 'clock_speed', 'dual_sim', 'fc','four_g',\n",
        "       'int_memory', 'm_dep', 'mobile_wt', 'n_cores', 'pc', 'px_height', 'px_width', 'ram', 'sc_h', 'sc_w', 'talk_time', 'three_g', 'touch_screen', 'wifi', 'Disp_Resolution']]).fit()"
      ]
    },
    {
      "cell_type": "code",
      "metadata": {
        "colab": {
          "base_uri": "https://localhost:8080/",
          "height": 878
        },
        "id": "r-NCNXn971Iw",
        "outputId": "9f248108-285d-4f43-ddc4-b3dd2b44c59f"
      },
      "source": [
        "result.summary()"
      ],
      "execution_count": null,
      "outputs": [
        {
          "output_type": "execute_result",
          "data": {
            "text/html": [
              "<table class=\"simpletable\">\n",
              "<caption>OLS Regression Results</caption>\n",
              "<tr>\n",
              "  <th>Dep. Variable:</th>       <td>price_range</td>   <th>  R-squared (uncentered):</th>      <td>   0.964</td>\n",
              "</tr>\n",
              "<tr>\n",
              "  <th>Model:</th>                   <td>OLS</td>       <th>  Adj. R-squared (uncentered):</th> <td>   0.963</td>\n",
              "</tr>\n",
              "<tr>\n",
              "  <th>Method:</th>             <td>Least Squares</td>  <th>  F-statistic:       </th>          <td>   1760.</td>\n",
              "</tr>\n",
              "<tr>\n",
              "  <th>Date:</th>             <td>Tue, 23 Nov 2021</td> <th>  Prob (F-statistic):</th>           <td>  0.00</td> \n",
              "</tr>\n",
              "<tr>\n",
              "  <th>Time:</th>                 <td>05:11:46</td>     <th>  Log-Likelihood:    </th>          <td> -535.92</td>\n",
              "</tr>\n",
              "<tr>\n",
              "  <th>No. Observations:</th>      <td>  1400</td>      <th>  AIC:               </th>          <td>   1114.</td>\n",
              "</tr>\n",
              "<tr>\n",
              "  <th>Df Residuals:</th>          <td>  1379</td>      <th>  BIC:               </th>          <td>   1224.</td>\n",
              "</tr>\n",
              "<tr>\n",
              "  <th>Df Model:</th>              <td>    21</td>      <th>                     </th>              <td> </td>   \n",
              "</tr>\n",
              "<tr>\n",
              "  <th>Covariance Type:</th>      <td>nonrobust</td>    <th>                     </th>              <td> </td>   \n",
              "</tr>\n",
              "</table>\n",
              "<table class=\"simpletable\">\n",
              "<tr>\n",
              "         <td></td>            <th>coef</th>     <th>std err</th>      <th>t</th>      <th>P>|t|</th>  <th>[0.025</th>    <th>0.975]</th>  \n",
              "</tr>\n",
              "<tr>\n",
              "  <th>battery_power</th>   <td>    0.0004</td> <td> 2.09e-05</td> <td>   19.378</td> <td> 0.000</td> <td>    0.000</td> <td>    0.000</td>\n",
              "</tr>\n",
              "<tr>\n",
              "  <th>bluetooth</th>       <td>   -0.0454</td> <td>    0.019</td> <td>   -2.371</td> <td> 0.018</td> <td>   -0.083</td> <td>   -0.008</td>\n",
              "</tr>\n",
              "<tr>\n",
              "  <th>clock_speed</th>     <td>   -0.0482</td> <td>    0.011</td> <td>   -4.229</td> <td> 0.000</td> <td>   -0.071</td> <td>   -0.026</td>\n",
              "</tr>\n",
              "<tr>\n",
              "  <th>dual_sim</th>        <td>   -0.0524</td> <td>    0.019</td> <td>   -2.731</td> <td> 0.006</td> <td>   -0.090</td> <td>   -0.015</td>\n",
              "</tr>\n",
              "<tr>\n",
              "  <th>fc</th>              <td>   -0.0017</td> <td>    0.003</td> <td>   -0.593</td> <td> 0.554</td> <td>   -0.008</td> <td>    0.004</td>\n",
              "</tr>\n",
              "<tr>\n",
              "  <th>four_g</th>          <td>    0.0035</td> <td>    0.024</td> <td>    0.146</td> <td> 0.884</td> <td>   -0.043</td> <td>    0.050</td>\n",
              "</tr>\n",
              "<tr>\n",
              "  <th>int_memory</th>      <td>   -0.0009</td> <td>    0.001</td> <td>   -1.814</td> <td> 0.070</td> <td>   -0.002</td> <td> 7.61e-05</td>\n",
              "</tr>\n",
              "<tr>\n",
              "  <th>m_dep</th>           <td>   -0.0800</td> <td>    0.033</td> <td>   -2.444</td> <td> 0.015</td> <td>   -0.144</td> <td>   -0.016</td>\n",
              "</tr>\n",
              "<tr>\n",
              "  <th>mobile_wt</th>       <td>   -0.0029</td> <td>    0.000</td> <td>  -11.639</td> <td> 0.000</td> <td>   -0.003</td> <td>   -0.002</td>\n",
              "</tr>\n",
              "<tr>\n",
              "  <th>n_cores</th>         <td>   -0.0126</td> <td>    0.004</td> <td>   -3.039</td> <td> 0.002</td> <td>   -0.021</td> <td>   -0.004</td>\n",
              "</tr>\n",
              "<tr>\n",
              "  <th>pc</th>              <td>   -0.0022</td> <td>    0.002</td> <td>   -1.047</td> <td> 0.295</td> <td>   -0.006</td> <td>    0.002</td>\n",
              "</tr>\n",
              "<tr>\n",
              "  <th>px_height</th>       <td>   -0.0004</td> <td> 8.26e-05</td> <td>   -5.370</td> <td> 0.000</td> <td>   -0.001</td> <td>   -0.000</td>\n",
              "</tr>\n",
              "<tr>\n",
              "  <th>px_width</th>        <td>-7.203e-05</td> <td> 3.41e-05</td> <td>   -2.114</td> <td> 0.035</td> <td>   -0.000</td> <td>-5.18e-06</td>\n",
              "</tr>\n",
              "<tr>\n",
              "  <th>ram</th>             <td>    0.0009</td> <td> 8.68e-06</td> <td>  105.531</td> <td> 0.000</td> <td>    0.001</td> <td>    0.001</td>\n",
              "</tr>\n",
              "<tr>\n",
              "  <th>sc_h</th>            <td>   -0.0103</td> <td>    0.003</td> <td>   -3.955</td> <td> 0.000</td> <td>   -0.015</td> <td>   -0.005</td>\n",
              "</tr>\n",
              "<tr>\n",
              "  <th>sc_w</th>            <td>   -0.0003</td> <td>    0.003</td> <td>   -0.118</td> <td> 0.906</td> <td>   -0.005</td> <td>    0.005</td>\n",
              "</tr>\n",
              "<tr>\n",
              "  <th>talk_time</th>       <td>   -0.0069</td> <td>    0.002</td> <td>   -4.082</td> <td> 0.000</td> <td>   -0.010</td> <td>   -0.004</td>\n",
              "</tr>\n",
              "<tr>\n",
              "  <th>three_g</th>         <td>   -0.0566</td> <td>    0.027</td> <td>   -2.068</td> <td> 0.039</td> <td>   -0.110</td> <td>   -0.003</td>\n",
              "</tr>\n",
              "<tr>\n",
              "  <th>touch_screen</th>    <td>   -0.0375</td> <td>    0.019</td> <td>   -1.960</td> <td> 0.050</td> <td>   -0.075</td> <td> 2.79e-05</td>\n",
              "</tr>\n",
              "<tr>\n",
              "  <th>wifi</th>            <td>   -0.0570</td> <td>    0.019</td> <td>   -2.977</td> <td> 0.003</td> <td>   -0.095</td> <td>   -0.019</td>\n",
              "</tr>\n",
              "<tr>\n",
              "  <th>Disp_Resolution</th> <td> 4.708e-07</td> <td> 5.16e-08</td> <td>    9.117</td> <td> 0.000</td> <td>  3.7e-07</td> <td> 5.72e-07</td>\n",
              "</tr>\n",
              "</table>\n",
              "<table class=\"simpletable\">\n",
              "<tr>\n",
              "  <th>Omnibus:</th>       <td>20.168</td> <th>  Durbin-Watson:     </th> <td>   1.979</td>\n",
              "</tr>\n",
              "<tr>\n",
              "  <th>Prob(Omnibus):</th> <td> 0.000</td> <th>  Jarque-Bera (JB):  </th> <td>  12.345</td>\n",
              "</tr>\n",
              "<tr>\n",
              "  <th>Skew:</th>          <td> 0.038</td> <th>  Prob(JB):          </th> <td> 0.00209</td>\n",
              "</tr>\n",
              "<tr>\n",
              "  <th>Kurtosis:</th>      <td> 2.546</td> <th>  Cond. No.          </th> <td>4.25e+06</td>\n",
              "</tr>\n",
              "</table><br/><br/>Warnings:<br/>[1] Standard Errors assume that the covariance matrix of the errors is correctly specified.<br/>[2] The condition number is large, 4.25e+06. This might indicate that there are<br/>strong multicollinearity or other numerical problems."
            ],
            "text/plain": [
              "<class 'statsmodels.iolib.summary.Summary'>\n",
              "\"\"\"\n",
              "                                 OLS Regression Results                                \n",
              "=======================================================================================\n",
              "Dep. Variable:            price_range   R-squared (uncentered):                   0.964\n",
              "Model:                            OLS   Adj. R-squared (uncentered):              0.963\n",
              "Method:                 Least Squares   F-statistic:                              1760.\n",
              "Date:                Tue, 23 Nov 2021   Prob (F-statistic):                        0.00\n",
              "Time:                        05:11:46   Log-Likelihood:                         -535.92\n",
              "No. Observations:                1400   AIC:                                      1114.\n",
              "Df Residuals:                    1379   BIC:                                      1224.\n",
              "Df Model:                          21                                                  \n",
              "Covariance Type:            nonrobust                                                  \n",
              "===================================================================================\n",
              "                      coef    std err          t      P>|t|      [0.025      0.975]\n",
              "-----------------------------------------------------------------------------------\n",
              "battery_power       0.0004   2.09e-05     19.378      0.000       0.000       0.000\n",
              "bluetooth          -0.0454      0.019     -2.371      0.018      -0.083      -0.008\n",
              "clock_speed        -0.0482      0.011     -4.229      0.000      -0.071      -0.026\n",
              "dual_sim           -0.0524      0.019     -2.731      0.006      -0.090      -0.015\n",
              "fc                 -0.0017      0.003     -0.593      0.554      -0.008       0.004\n",
              "four_g              0.0035      0.024      0.146      0.884      -0.043       0.050\n",
              "int_memory         -0.0009      0.001     -1.814      0.070      -0.002    7.61e-05\n",
              "m_dep              -0.0800      0.033     -2.444      0.015      -0.144      -0.016\n",
              "mobile_wt          -0.0029      0.000    -11.639      0.000      -0.003      -0.002\n",
              "n_cores            -0.0126      0.004     -3.039      0.002      -0.021      -0.004\n",
              "pc                 -0.0022      0.002     -1.047      0.295      -0.006       0.002\n",
              "px_height          -0.0004   8.26e-05     -5.370      0.000      -0.001      -0.000\n",
              "px_width        -7.203e-05   3.41e-05     -2.114      0.035      -0.000   -5.18e-06\n",
              "ram                 0.0009   8.68e-06    105.531      0.000       0.001       0.001\n",
              "sc_h               -0.0103      0.003     -3.955      0.000      -0.015      -0.005\n",
              "sc_w               -0.0003      0.003     -0.118      0.906      -0.005       0.005\n",
              "talk_time          -0.0069      0.002     -4.082      0.000      -0.010      -0.004\n",
              "three_g            -0.0566      0.027     -2.068      0.039      -0.110      -0.003\n",
              "touch_screen       -0.0375      0.019     -1.960      0.050      -0.075    2.79e-05\n",
              "wifi               -0.0570      0.019     -2.977      0.003      -0.095      -0.019\n",
              "Disp_Resolution  4.708e-07   5.16e-08      9.117      0.000     3.7e-07    5.72e-07\n",
              "==============================================================================\n",
              "Omnibus:                       20.168   Durbin-Watson:                   1.979\n",
              "Prob(Omnibus):                  0.000   Jarque-Bera (JB):               12.345\n",
              "Skew:                           0.038   Prob(JB):                      0.00209\n",
              "Kurtosis:                       2.546   Cond. No.                     4.25e+06\n",
              "==============================================================================\n",
              "\n",
              "Warnings:\n",
              "[1] Standard Errors assume that the covariance matrix of the errors is correctly specified.\n",
              "[2] The condition number is large, 4.25e+06. This might indicate that there are\n",
              "strong multicollinearity or other numerical problems.\n",
              "\"\"\""
            ]
          },
          "metadata": {},
          "execution_count": 29
        }
      ]
    },
    {
      "cell_type": "markdown",
      "metadata": {
        "id": "2TF_X5Dj0adV"
      },
      "source": [
        "**Interpretation:**\n",
        "\n",
        "* The variables having p-value less than 0.05 are not significant variables. Hence, we will remove variables namely - fc, four_g, int_memory, pc and sc_w.\n",
        "\n",
        "* Again running the OLS algorithm."
      ]
    },
    {
      "cell_type": "code",
      "metadata": {
        "colab": {
          "base_uri": "https://localhost:8080/",
          "height": 773
        },
        "id": "ATlLpOnk71j5",
        "outputId": "aaea1efa-2700-4fdc-b4f2-dc3a22db08be"
      },
      "source": [
        "result_significant = sm.OLS(train_data['price_range'], train_data[['battery_power', 'bluetooth', 'clock_speed', 'dual_sim', 'm_dep', 'mobile_wt', 'n_cores', 'px_height', 'px_width', 'ram', 'sc_h', 'talk_time', 'three_g', 'touch_screen', 'wifi', 'Disp_Resolution']]).fit()\n",
        "result_significant.summary()\n"
      ],
      "execution_count": null,
      "outputs": [
        {
          "output_type": "execute_result",
          "data": {
            "text/html": [
              "<table class=\"simpletable\">\n",
              "<caption>OLS Regression Results</caption>\n",
              "<tr>\n",
              "  <th>Dep. Variable:</th>       <td>price_range</td>   <th>  R-squared (uncentered):</th>      <td>   0.964</td>\n",
              "</tr>\n",
              "<tr>\n",
              "  <th>Model:</th>                   <td>OLS</td>       <th>  Adj. R-squared (uncentered):</th> <td>   0.963</td>\n",
              "</tr>\n",
              "<tr>\n",
              "  <th>Method:</th>             <td>Least Squares</td>  <th>  F-statistic:       </th>          <td>   2306.</td>\n",
              "</tr>\n",
              "<tr>\n",
              "  <th>Date:</th>             <td>Tue, 23 Nov 2021</td> <th>  Prob (F-statistic):</th>           <td>  0.00</td> \n",
              "</tr>\n",
              "<tr>\n",
              "  <th>Time:</th>                 <td>05:11:47</td>     <th>  Log-Likelihood:    </th>          <td> -539.51</td>\n",
              "</tr>\n",
              "<tr>\n",
              "  <th>No. Observations:</th>      <td>  1400</td>      <th>  AIC:               </th>          <td>   1111.</td>\n",
              "</tr>\n",
              "<tr>\n",
              "  <th>Df Residuals:</th>          <td>  1384</td>      <th>  BIC:               </th>          <td>   1195.</td>\n",
              "</tr>\n",
              "<tr>\n",
              "  <th>Df Model:</th>              <td>    16</td>      <th>                     </th>              <td> </td>   \n",
              "</tr>\n",
              "<tr>\n",
              "  <th>Covariance Type:</th>      <td>nonrobust</td>    <th>                     </th>              <td> </td>   \n",
              "</tr>\n",
              "</table>\n",
              "<table class=\"simpletable\">\n",
              "<tr>\n",
              "         <td></td>            <th>coef</th>     <th>std err</th>      <th>t</th>      <th>P>|t|</th>  <th>[0.025</th>    <th>0.975]</th>  \n",
              "</tr>\n",
              "<tr>\n",
              "  <th>battery_power</th>   <td>    0.0004</td> <td> 2.07e-05</td> <td>   19.199</td> <td> 0.000</td> <td>    0.000</td> <td>    0.000</td>\n",
              "</tr>\n",
              "<tr>\n",
              "  <th>bluetooth</th>       <td>   -0.0472</td> <td>    0.019</td> <td>   -2.470</td> <td> 0.014</td> <td>   -0.085</td> <td>   -0.010</td>\n",
              "</tr>\n",
              "<tr>\n",
              "  <th>clock_speed</th>     <td>   -0.0496</td> <td>    0.011</td> <td>   -4.358</td> <td> 0.000</td> <td>   -0.072</td> <td>   -0.027</td>\n",
              "</tr>\n",
              "<tr>\n",
              "  <th>dual_sim</th>        <td>   -0.0525</td> <td>    0.019</td> <td>   -2.739</td> <td> 0.006</td> <td>   -0.090</td> <td>   -0.015</td>\n",
              "</tr>\n",
              "<tr>\n",
              "  <th>m_dep</th>           <td>   -0.0844</td> <td>    0.033</td> <td>   -2.583</td> <td> 0.010</td> <td>   -0.148</td> <td>   -0.020</td>\n",
              "</tr>\n",
              "<tr>\n",
              "  <th>mobile_wt</th>       <td>   -0.0029</td> <td>    0.000</td> <td>  -11.866</td> <td> 0.000</td> <td>   -0.003</td> <td>   -0.002</td>\n",
              "</tr>\n",
              "<tr>\n",
              "  <th>n_cores</th>         <td>   -0.0129</td> <td>    0.004</td> <td>   -3.136</td> <td> 0.002</td> <td>   -0.021</td> <td>   -0.005</td>\n",
              "</tr>\n",
              "<tr>\n",
              "  <th>px_height</th>       <td>   -0.0005</td> <td>  8.2e-05</td> <td>   -5.725</td> <td> 0.000</td> <td>   -0.001</td> <td>   -0.000</td>\n",
              "</tr>\n",
              "<tr>\n",
              "  <th>px_width</th>        <td> -8.54e-05</td> <td> 3.37e-05</td> <td>   -2.533</td> <td> 0.011</td> <td>   -0.000</td> <td>-1.93e-05</td>\n",
              "</tr>\n",
              "<tr>\n",
              "  <th>ram</th>             <td>    0.0009</td> <td> 8.63e-06</td> <td>  105.811</td> <td> 0.000</td> <td>    0.001</td> <td>    0.001</td>\n",
              "</tr>\n",
              "<tr>\n",
              "  <th>sc_h</th>            <td>   -0.0111</td> <td>    0.002</td> <td>   -5.122</td> <td> 0.000</td> <td>   -0.015</td> <td>   -0.007</td>\n",
              "</tr>\n",
              "<tr>\n",
              "  <th>talk_time</th>       <td>   -0.0071</td> <td>    0.002</td> <td>   -4.206</td> <td> 0.000</td> <td>   -0.010</td> <td>   -0.004</td>\n",
              "</tr>\n",
              "<tr>\n",
              "  <th>three_g</th>         <td>   -0.0574</td> <td>    0.022</td> <td>   -2.611</td> <td> 0.009</td> <td>   -0.100</td> <td>   -0.014</td>\n",
              "</tr>\n",
              "<tr>\n",
              "  <th>touch_screen</th>    <td>   -0.0383</td> <td>    0.019</td> <td>   -2.000</td> <td> 0.046</td> <td>   -0.076</td> <td>   -0.001</td>\n",
              "</tr>\n",
              "<tr>\n",
              "  <th>wifi</th>            <td>   -0.0586</td> <td>    0.019</td> <td>   -3.059</td> <td> 0.002</td> <td>   -0.096</td> <td>   -0.021</td>\n",
              "</tr>\n",
              "<tr>\n",
              "  <th>Disp_Resolution</th> <td> 4.888e-07</td> <td> 5.12e-08</td> <td>    9.549</td> <td> 0.000</td> <td> 3.88e-07</td> <td> 5.89e-07</td>\n",
              "</tr>\n",
              "</table>\n",
              "<table class=\"simpletable\">\n",
              "<tr>\n",
              "  <th>Omnibus:</th>       <td>19.983</td> <th>  Durbin-Watson:     </th> <td>   1.981</td>\n",
              "</tr>\n",
              "<tr>\n",
              "  <th>Prob(Omnibus):</th> <td> 0.000</td> <th>  Jarque-Bera (JB):  </th> <td>  12.186</td>\n",
              "</tr>\n",
              "<tr>\n",
              "  <th>Skew:</th>          <td> 0.030</td> <th>  Prob(JB):          </th> <td> 0.00226</td>\n",
              "</tr>\n",
              "<tr>\n",
              "  <th>Kurtosis:</th>      <td> 2.547</td> <th>  Cond. No.          </th> <td>4.21e+06</td>\n",
              "</tr>\n",
              "</table><br/><br/>Warnings:<br/>[1] Standard Errors assume that the covariance matrix of the errors is correctly specified.<br/>[2] The condition number is large, 4.21e+06. This might indicate that there are<br/>strong multicollinearity or other numerical problems."
            ],
            "text/plain": [
              "<class 'statsmodels.iolib.summary.Summary'>\n",
              "\"\"\"\n",
              "                                 OLS Regression Results                                \n",
              "=======================================================================================\n",
              "Dep. Variable:            price_range   R-squared (uncentered):                   0.964\n",
              "Model:                            OLS   Adj. R-squared (uncentered):              0.963\n",
              "Method:                 Least Squares   F-statistic:                              2306.\n",
              "Date:                Tue, 23 Nov 2021   Prob (F-statistic):                        0.00\n",
              "Time:                        05:11:47   Log-Likelihood:                         -539.51\n",
              "No. Observations:                1400   AIC:                                      1111.\n",
              "Df Residuals:                    1384   BIC:                                      1195.\n",
              "Df Model:                          16                                                  \n",
              "Covariance Type:            nonrobust                                                  \n",
              "===================================================================================\n",
              "                      coef    std err          t      P>|t|      [0.025      0.975]\n",
              "-----------------------------------------------------------------------------------\n",
              "battery_power       0.0004   2.07e-05     19.199      0.000       0.000       0.000\n",
              "bluetooth          -0.0472      0.019     -2.470      0.014      -0.085      -0.010\n",
              "clock_speed        -0.0496      0.011     -4.358      0.000      -0.072      -0.027\n",
              "dual_sim           -0.0525      0.019     -2.739      0.006      -0.090      -0.015\n",
              "m_dep              -0.0844      0.033     -2.583      0.010      -0.148      -0.020\n",
              "mobile_wt          -0.0029      0.000    -11.866      0.000      -0.003      -0.002\n",
              "n_cores            -0.0129      0.004     -3.136      0.002      -0.021      -0.005\n",
              "px_height          -0.0005    8.2e-05     -5.725      0.000      -0.001      -0.000\n",
              "px_width         -8.54e-05   3.37e-05     -2.533      0.011      -0.000   -1.93e-05\n",
              "ram                 0.0009   8.63e-06    105.811      0.000       0.001       0.001\n",
              "sc_h               -0.0111      0.002     -5.122      0.000      -0.015      -0.007\n",
              "talk_time          -0.0071      0.002     -4.206      0.000      -0.010      -0.004\n",
              "three_g            -0.0574      0.022     -2.611      0.009      -0.100      -0.014\n",
              "touch_screen       -0.0383      0.019     -2.000      0.046      -0.076      -0.001\n",
              "wifi               -0.0586      0.019     -3.059      0.002      -0.096      -0.021\n",
              "Disp_Resolution  4.888e-07   5.12e-08      9.549      0.000    3.88e-07    5.89e-07\n",
              "==============================================================================\n",
              "Omnibus:                       19.983   Durbin-Watson:                   1.981\n",
              "Prob(Omnibus):                  0.000   Jarque-Bera (JB):               12.186\n",
              "Skew:                           0.030   Prob(JB):                      0.00226\n",
              "Kurtosis:                       2.547   Cond. No.                     4.21e+06\n",
              "==============================================================================\n",
              "\n",
              "Warnings:\n",
              "[1] Standard Errors assume that the covariance matrix of the errors is correctly specified.\n",
              "[2] The condition number is large, 4.21e+06. This might indicate that there are\n",
              "strong multicollinearity or other numerical problems.\n",
              "\"\"\""
            ]
          },
          "metadata": {},
          "execution_count": 30
        }
      ]
    },
    {
      "cell_type": "markdown",
      "metadata": {
        "id": "yME8j5DN8-Dz"
      },
      "source": [
        "## **Interpretation**: \n",
        "\n",
        "Significant Variables useful to predict the correct price range for the mobile device are - 'battery_power', 'bluetooth', 'clock_speed', 'dual_sim', 'm_dep', 'mobile_wt', 'n_cores', 'px_height', 'px_width', 'ram', 'sc_h', 'talk_time', 'three_g', 'touch_screen', 'wifi', 'Disp_Resolution'"
      ]
    },
    {
      "cell_type": "markdown",
      "metadata": {
        "id": "1ov-guXYLtzK"
      },
      "source": [
        "## **Part C:** \n",
        "**3. Checking for missing values:**\n",
        "\n"
      ]
    },
    {
      "cell_type": "code",
      "metadata": {
        "colab": {
          "base_uri": "https://localhost:8080/"
        },
        "id": "YSBK_CDmMhCA",
        "outputId": "df645400-1850-461f-c600-dc5f8da65693"
      },
      "source": [
        "x_train.isna().sum()"
      ],
      "execution_count": null,
      "outputs": [
        {
          "output_type": "execute_result",
          "data": {
            "text/plain": [
              "battery_power      0\n",
              "bluetooth          0\n",
              "clock_speed        0\n",
              "dual_sim           0\n",
              "fc                 0\n",
              "four_g             0\n",
              "int_memory         0\n",
              "m_dep              0\n",
              "mobile_wt          0\n",
              "n_cores            0\n",
              "pc                 0\n",
              "px_height          0\n",
              "px_width           0\n",
              "ram                0\n",
              "sc_h               0\n",
              "sc_w               0\n",
              "talk_time          0\n",
              "three_g            0\n",
              "touch_screen       0\n",
              "wifi               0\n",
              "Disp_Resolution    0\n",
              "dtype: int64"
            ]
          },
          "metadata": {},
          "execution_count": 31
        }
      ]
    },
    {
      "cell_type": "code",
      "metadata": {
        "colab": {
          "base_uri": "https://localhost:8080/"
        },
        "id": "2fAHSXnnMic4",
        "outputId": "115ec71c-ba42-4488-e22e-29549ca0a88e"
      },
      "source": [
        "y_train.isna().sum()"
      ],
      "execution_count": null,
      "outputs": [
        {
          "output_type": "execute_result",
          "data": {
            "text/plain": [
              "0"
            ]
          },
          "metadata": {},
          "execution_count": 32
        }
      ]
    },
    {
      "cell_type": "code",
      "metadata": {
        "colab": {
          "base_uri": "https://localhost:8080/"
        },
        "id": "1guSRPnvMiZI",
        "outputId": "f1b5ca53-3b02-4164-f7f8-58fcaec357ea"
      },
      "source": [
        "x_test.isna().sum()"
      ],
      "execution_count": null,
      "outputs": [
        {
          "output_type": "execute_result",
          "data": {
            "text/plain": [
              "battery_power      0\n",
              "bluetooth          0\n",
              "clock_speed        0\n",
              "dual_sim           0\n",
              "fc                 0\n",
              "four_g             0\n",
              "int_memory         0\n",
              "m_dep              0\n",
              "mobile_wt          0\n",
              "n_cores            0\n",
              "pc                 0\n",
              "px_height          0\n",
              "px_width           0\n",
              "ram                0\n",
              "sc_h               0\n",
              "sc_w               0\n",
              "talk_time          0\n",
              "three_g            0\n",
              "touch_screen       0\n",
              "wifi               0\n",
              "Disp_Resolution    0\n",
              "dtype: int64"
            ]
          },
          "metadata": {},
          "execution_count": 33
        }
      ]
    },
    {
      "cell_type": "markdown",
      "metadata": {
        "id": "6KJV23LWMyIz"
      },
      "source": [
        "* ### **Interpretation**: There is no missing value in the dataset"
      ]
    },
    {
      "cell_type": "markdown",
      "metadata": {
        "id": "fFjLmzBkpnYT"
      },
      "source": [
        "## **Part C - 4. Standardising the dataset**"
      ]
    },
    {
      "cell_type": "markdown",
      "metadata": {
        "id": "Vp0GLKh9pnUv"
      },
      "source": [
        "* Standardistion is a part of data preprocessing. \n",
        "* Standardizing the features around the center and 0 with a standard deviation of 1 is important when we compare measurements that have different units. Variables that are measured at different scales do not contribute equally to the analysis and might end up creating a bais.\n",
        "* Standardises features by removing the mean and scaling to unit variance. The standard score of a sample x is calculated as:\n",
        "\n",
        "                                z = (x - u) / s\n",
        "\n",
        "      where, u = mean of the training samples or zero if with_mean=False, and \n",
        "             s = standard deviation of the training samples or one if with_std=False.\n",
        "\n",
        "* The preprocessing module provides the StandardScaler utility class, which is a quick and easy way to perform the standardisation operation on an array-like dataset."
      ]
    },
    {
      "cell_type": "code",
      "metadata": {
        "id": "s2LUEU3R7Roe"
      },
      "source": [
        "x_trainscale = train_data[['battery_power', 'bluetooth', 'clock_speed', 'dual_sim', 'm_dep', 'mobile_wt', 'n_cores', 'px_height', 'px_width', 'ram', 'sc_h', 'talk_time', 'three_g', 'touch_screen', 'wifi', 'Disp_Resolution']]\n",
        "x_testscale = test_data[['battery_power', 'bluetooth', 'clock_speed', 'dual_sim', 'm_dep', 'mobile_wt', 'n_cores', 'px_height', 'px_width', 'ram', 'sc_h', 'talk_time', 'three_g', 'touch_screen', 'wifi', 'Disp_Resolution']]"
      ],
      "execution_count": null,
      "outputs": []
    },
    {
      "cell_type": "code",
      "metadata": {
        "id": "Zn4RT2dqpe_Q"
      },
      "source": [
        "# sklearn.preprocessing is the package that provides several common utility functions and transformer classes to perform standardization of the dataset.\n",
        "# StandardScaler is utility class of preprocessing package that transforms the data in such a manner that it has mean as 0 and standard deviation as 1.\n",
        "\n",
        "from sklearn.preprocessing import StandardScaler as ss                                               \n",
        "x_trainscale = ss().fit_transform(x_train)\n",
        "x_testscale = ss().fit_transform(x_test)"
      ],
      "execution_count": null,
      "outputs": []
    },
    {
      "cell_type": "code",
      "metadata": {
        "colab": {
          "base_uri": "https://localhost:8080/",
          "height": 226
        },
        "id": "iY1Z0L5yp8PS",
        "outputId": "dc5225f2-8ce9-44ea-bb8e-d4d599d71c45"
      },
      "source": [
        "pd.DataFrame(x_trainscale).head(5)"
      ],
      "execution_count": null,
      "outputs": [
        {
          "output_type": "execute_result",
          "data": {
            "text/html": [
              "<div>\n",
              "<style scoped>\n",
              "    .dataframe tbody tr th:only-of-type {\n",
              "        vertical-align: middle;\n",
              "    }\n",
              "\n",
              "    .dataframe tbody tr th {\n",
              "        vertical-align: top;\n",
              "    }\n",
              "\n",
              "    .dataframe thead th {\n",
              "        text-align: right;\n",
              "    }\n",
              "</style>\n",
              "<table border=\"1\" class=\"dataframe\">\n",
              "  <thead>\n",
              "    <tr style=\"text-align: right;\">\n",
              "      <th></th>\n",
              "      <th>0</th>\n",
              "      <th>1</th>\n",
              "      <th>2</th>\n",
              "      <th>3</th>\n",
              "      <th>4</th>\n",
              "      <th>5</th>\n",
              "      <th>6</th>\n",
              "      <th>7</th>\n",
              "      <th>8</th>\n",
              "      <th>9</th>\n",
              "      <th>10</th>\n",
              "      <th>11</th>\n",
              "      <th>12</th>\n",
              "      <th>13</th>\n",
              "      <th>14</th>\n",
              "      <th>15</th>\n",
              "      <th>16</th>\n",
              "      <th>17</th>\n",
              "      <th>18</th>\n",
              "      <th>19</th>\n",
              "      <th>20</th>\n",
              "    </tr>\n",
              "  </thead>\n",
              "  <tbody>\n",
              "    <tr>\n",
              "      <th>0</th>\n",
              "      <td>-0.976452</td>\n",
              "      <td>1.00143</td>\n",
              "      <td>-1.245224</td>\n",
              "      <td>0.988636</td>\n",
              "      <td>-0.991789</td>\n",
              "      <td>-1.031938</td>\n",
              "      <td>0.266596</td>\n",
              "      <td>-1.052203</td>\n",
              "      <td>-0.371322</td>\n",
              "      <td>-0.247588</td>\n",
              "      <td>-1.624363</td>\n",
              "      <td>-0.911125</td>\n",
              "      <td>-0.971849</td>\n",
              "      <td>0.180472</td>\n",
              "      <td>-1.753980</td>\n",
              "      <td>-0.408538</td>\n",
              "      <td>-1.257549</td>\n",
              "      <td>-1.762263</td>\n",
              "      <td>-1.007169</td>\n",
              "      <td>-1.024588</td>\n",
              "      <td>-0.849033</td>\n",
              "    </tr>\n",
              "    <tr>\n",
              "      <th>1</th>\n",
              "      <td>-0.390618</td>\n",
              "      <td>1.00143</td>\n",
              "      <td>-1.245224</td>\n",
              "      <td>-1.011495</td>\n",
              "      <td>-0.991789</td>\n",
              "      <td>0.969050</td>\n",
              "      <td>-0.996928</td>\n",
              "      <td>0.671913</td>\n",
              "      <td>-1.446330</td>\n",
              "      <td>-1.125115</td>\n",
              "      <td>-1.293608</td>\n",
              "      <td>-1.038609</td>\n",
              "      <td>-0.740549</td>\n",
              "      <td>0.878873</td>\n",
              "      <td>-0.551683</td>\n",
              "      <td>-1.094333</td>\n",
              "      <td>1.267598</td>\n",
              "      <td>0.567452</td>\n",
              "      <td>-1.007169</td>\n",
              "      <td>0.976002</td>\n",
              "      <td>-0.883491</td>\n",
              "    </tr>\n",
              "    <tr>\n",
              "      <th>2</th>\n",
              "      <td>-0.149926</td>\n",
              "      <td>1.00143</td>\n",
              "      <td>0.211077</td>\n",
              "      <td>0.988636</td>\n",
              "      <td>-0.521189</td>\n",
              "      <td>-1.031938</td>\n",
              "      <td>-0.722249</td>\n",
              "      <td>-0.707380</td>\n",
              "      <td>0.760265</td>\n",
              "      <td>1.068703</td>\n",
              "      <td>1.517813</td>\n",
              "      <td>-0.904415</td>\n",
              "      <td>-1.144740</td>\n",
              "      <td>-1.711378</td>\n",
              "      <td>-1.513521</td>\n",
              "      <td>-0.179940</td>\n",
              "      <td>-0.536078</td>\n",
              "      <td>-1.762263</td>\n",
              "      <td>-1.007169</td>\n",
              "      <td>-1.024588</td>\n",
              "      <td>-0.868120</td>\n",
              "    </tr>\n",
              "    <tr>\n",
              "      <th>3</th>\n",
              "      <td>-1.426045</td>\n",
              "      <td>1.00143</td>\n",
              "      <td>1.788737</td>\n",
              "      <td>-1.011495</td>\n",
              "      <td>2.537708</td>\n",
              "      <td>0.969050</td>\n",
              "      <td>0.651147</td>\n",
              "      <td>-0.707380</td>\n",
              "      <td>-0.654219</td>\n",
              "      <td>-1.563879</td>\n",
              "      <td>1.021680</td>\n",
              "      <td>-1.329363</td>\n",
              "      <td>0.018769</td>\n",
              "      <td>0.421554</td>\n",
              "      <td>0.650615</td>\n",
              "      <td>1.191650</td>\n",
              "      <td>0.726495</td>\n",
              "      <td>0.567452</td>\n",
              "      <td>-1.007169</td>\n",
              "      <td>0.976002</td>\n",
              "      <td>-1.005951</td>\n",
              "    </tr>\n",
              "    <tr>\n",
              "      <th>4</th>\n",
              "      <td>-0.099971</td>\n",
              "      <td>1.00143</td>\n",
              "      <td>0.939228</td>\n",
              "      <td>-1.011495</td>\n",
              "      <td>0.655310</td>\n",
              "      <td>-1.031938</td>\n",
              "      <td>-0.667313</td>\n",
              "      <td>1.706382</td>\n",
              "      <td>0.505658</td>\n",
              "      <td>1.068703</td>\n",
              "      <td>0.525547</td>\n",
              "      <td>1.766046</td>\n",
              "      <td>1.539742</td>\n",
              "      <td>-0.151706</td>\n",
              "      <td>-1.273061</td>\n",
              "      <td>-0.179940</td>\n",
              "      <td>-1.618284</td>\n",
              "      <td>0.567452</td>\n",
              "      <td>-1.007169</td>\n",
              "      <td>-1.024588</td>\n",
              "      <td>2.209737</td>\n",
              "    </tr>\n",
              "  </tbody>\n",
              "</table>\n",
              "</div>"
            ],
            "text/plain": [
              "         0        1         2   ...        18        19        20\n",
              "0 -0.976452  1.00143 -1.245224  ... -1.007169 -1.024588 -0.849033\n",
              "1 -0.390618  1.00143 -1.245224  ... -1.007169  0.976002 -0.883491\n",
              "2 -0.149926  1.00143  0.211077  ... -1.007169 -1.024588 -0.868120\n",
              "3 -1.426045  1.00143  1.788737  ... -1.007169  0.976002 -1.005951\n",
              "4 -0.099971  1.00143  0.939228  ... -1.007169 -1.024588  2.209737\n",
              "\n",
              "[5 rows x 21 columns]"
            ]
          },
          "metadata": {},
          "execution_count": 36
        }
      ]
    },
    {
      "cell_type": "code",
      "metadata": {
        "colab": {
          "base_uri": "https://localhost:8080/",
          "height": 226
        },
        "id": "xYGW09pvqFRt",
        "outputId": "cc7dc24e-9c1e-4805-9a61-1e810173e6c0"
      },
      "source": [
        "pd.DataFrame(x_testscale).head(5)"
      ],
      "execution_count": null,
      "outputs": [
        {
          "output_type": "execute_result",
          "data": {
            "text/html": [
              "<div>\n",
              "<style scoped>\n",
              "    .dataframe tbody tr th:only-of-type {\n",
              "        vertical-align: middle;\n",
              "    }\n",
              "\n",
              "    .dataframe tbody tr th {\n",
              "        vertical-align: top;\n",
              "    }\n",
              "\n",
              "    .dataframe thead th {\n",
              "        text-align: right;\n",
              "    }\n",
              "</style>\n",
              "<table border=\"1\" class=\"dataframe\">\n",
              "  <thead>\n",
              "    <tr style=\"text-align: right;\">\n",
              "      <th></th>\n",
              "      <th>0</th>\n",
              "      <th>1</th>\n",
              "      <th>2</th>\n",
              "      <th>3</th>\n",
              "      <th>4</th>\n",
              "      <th>5</th>\n",
              "      <th>6</th>\n",
              "      <th>7</th>\n",
              "      <th>8</th>\n",
              "      <th>9</th>\n",
              "      <th>10</th>\n",
              "      <th>11</th>\n",
              "      <th>12</th>\n",
              "      <th>13</th>\n",
              "      <th>14</th>\n",
              "      <th>15</th>\n",
              "      <th>16</th>\n",
              "      <th>17</th>\n",
              "      <th>18</th>\n",
              "      <th>19</th>\n",
              "      <th>20</th>\n",
              "    </tr>\n",
              "  </thead>\n",
              "  <tbody>\n",
              "    <tr>\n",
              "      <th>0</th>\n",
              "      <td>0.755609</td>\n",
              "      <td>1.030464</td>\n",
              "      <td>-0.895860</td>\n",
              "      <td>0.963982</td>\n",
              "      <td>0.544438</td>\n",
              "      <td>0.932287</td>\n",
              "      <td>-1.323327</td>\n",
              "      <td>1.077011</td>\n",
              "      <td>0.802068</td>\n",
              "      <td>0.252581</td>\n",
              "      <td>-0.350597</td>\n",
              "      <td>-0.117567</td>\n",
              "      <td>-0.067554</td>\n",
              "      <td>1.235946</td>\n",
              "      <td>-1.461599</td>\n",
              "      <td>-0.631110</td>\n",
              "      <td>-0.209202</td>\n",
              "      <td>0.541390</td>\n",
              "      <td>0.996672</td>\n",
              "      <td>1.010051</td>\n",
              "      <td>-0.221881</td>\n",
              "    </tr>\n",
              "    <tr>\n",
              "      <th>1</th>\n",
              "      <td>-1.224992</td>\n",
              "      <td>-0.970437</td>\n",
              "      <td>0.736782</td>\n",
              "      <td>0.963982</td>\n",
              "      <td>-0.557663</td>\n",
              "      <td>-1.072631</td>\n",
              "      <td>-0.378557</td>\n",
              "      <td>1.077011</td>\n",
              "      <td>-0.268734</td>\n",
              "      <td>-0.615891</td>\n",
              "      <td>1.126176</td>\n",
              "      <td>-0.306049</td>\n",
              "      <td>-1.570691</td>\n",
              "      <td>1.585326</td>\n",
              "      <td>-0.769445</td>\n",
              "      <td>-0.863136</td>\n",
              "      <td>-0.778888</td>\n",
              "      <td>0.541390</td>\n",
              "      <td>-1.003339</td>\n",
              "      <td>1.010051</td>\n",
              "      <td>-0.742231</td>\n",
              "    </tr>\n",
              "    <tr>\n",
              "      <th>2</th>\n",
              "      <td>-0.593032</td>\n",
              "      <td>-0.970437</td>\n",
              "      <td>-1.147036</td>\n",
              "      <td>0.963982</td>\n",
              "      <td>-0.998504</td>\n",
              "      <td>0.932287</td>\n",
              "      <td>0.732938</td>\n",
              "      <td>-1.385398</td>\n",
              "      <td>-0.296913</td>\n",
              "      <td>-0.181655</td>\n",
              "      <td>0.141661</td>\n",
              "      <td>0.735196</td>\n",
              "      <td>-0.140104</td>\n",
              "      <td>-0.069828</td>\n",
              "      <td>-1.692317</td>\n",
              "      <td>-0.631110</td>\n",
              "      <td>-0.968783</td>\n",
              "      <td>0.541390</td>\n",
              "      <td>-1.003339</td>\n",
              "      <td>1.010051</td>\n",
              "      <td>0.297224</td>\n",
              "    </tr>\n",
              "    <tr>\n",
              "      <th>3</th>\n",
              "      <td>-0.950227</td>\n",
              "      <td>1.030464</td>\n",
              "      <td>-1.147036</td>\n",
              "      <td>0.963982</td>\n",
              "      <td>0.985279</td>\n",
              "      <td>0.932287</td>\n",
              "      <td>0.177191</td>\n",
              "      <td>-1.033625</td>\n",
              "      <td>-1.508609</td>\n",
              "      <td>0.686816</td>\n",
              "      <td>1.126176</td>\n",
              "      <td>-1.390966</td>\n",
              "      <td>-0.999363</td>\n",
              "      <td>0.222094</td>\n",
              "      <td>-1.692317</td>\n",
              "      <td>-0.631110</td>\n",
              "      <td>0.740276</td>\n",
              "      <td>0.541390</td>\n",
              "      <td>-1.003339</td>\n",
              "      <td>1.010051</td>\n",
              "      <td>-1.063357</td>\n",
              "    </tr>\n",
              "    <tr>\n",
              "      <th>4</th>\n",
              "      <td>1.678363</td>\n",
              "      <td>1.030464</td>\n",
              "      <td>0.485607</td>\n",
              "      <td>0.963982</td>\n",
              "      <td>-0.557663</td>\n",
              "      <td>-1.072631</td>\n",
              "      <td>-0.045108</td>\n",
              "      <td>1.428783</td>\n",
              "      <td>0.294846</td>\n",
              "      <td>-1.484363</td>\n",
              "      <td>1.126176</td>\n",
              "      <td>0.337546</td>\n",
              "      <td>0.771301</td>\n",
              "      <td>0.829108</td>\n",
              "      <td>0.153428</td>\n",
              "      <td>-0.167059</td>\n",
              "      <td>1.499858</td>\n",
              "      <td>-1.847096</td>\n",
              "      <td>-1.003339</td>\n",
              "      <td>1.010051</td>\n",
              "      <td>0.422080</td>\n",
              "    </tr>\n",
              "  </tbody>\n",
              "</table>\n",
              "</div>"
            ],
            "text/plain": [
              "         0         1         2   ...        18        19        20\n",
              "0  0.755609  1.030464 -0.895860  ...  0.996672  1.010051 -0.221881\n",
              "1 -1.224992 -0.970437  0.736782  ... -1.003339  1.010051 -0.742231\n",
              "2 -0.593032 -0.970437 -1.147036  ... -1.003339  1.010051  0.297224\n",
              "3 -0.950227  1.030464 -1.147036  ... -1.003339  1.010051 -1.063357\n",
              "4  1.678363  1.030464  0.485607  ... -1.003339  1.010051  0.422080\n",
              "\n",
              "[5 rows x 21 columns]"
            ]
          },
          "metadata": {},
          "execution_count": 37
        }
      ]
    },
    {
      "cell_type": "markdown",
      "metadata": {
        "id": "mHTTbkJTH_8W"
      },
      "source": [
        "## **Part C - 5. Interpretability & Reports:**"
      ]
    },
    {
      "cell_type": "code",
      "metadata": {
        "colab": {
          "base_uri": "https://localhost:8080/"
        },
        "id": "Q7wZH7NAt3y9",
        "outputId": "9b41b7e8-cd02-49a6-9ae4-8eb74ed37727"
      },
      "source": [
        "!pip install plotly"
      ],
      "execution_count": null,
      "outputs": [
        {
          "output_type": "stream",
          "name": "stdout",
          "text": [
            "Requirement already satisfied: plotly in /usr/local/lib/python3.7/dist-packages (4.4.1)\n",
            "Requirement already satisfied: six in /usr/local/lib/python3.7/dist-packages (from plotly) (1.15.0)\n",
            "Requirement already satisfied: retrying>=1.3.3 in /usr/local/lib/python3.7/dist-packages (from plotly) (1.3.3)\n"
          ]
        }
      ]
    },
    {
      "cell_type": "code",
      "metadata": {
        "colab": {
          "base_uri": "https://localhost:8080/"
        },
        "id": "vJ9FyvcZt8Nl",
        "outputId": "0b2b9285-41e5-4611-b58b-c1c17abf2fb4"
      },
      "source": [
        "!pip install shap"
      ],
      "execution_count": null,
      "outputs": [
        {
          "output_type": "stream",
          "name": "stdout",
          "text": [
            "Collecting shap\n",
            "  Downloading shap-0.40.0.tar.gz (371 kB)\n",
            "\u001b[?25l\r\u001b[K     |▉                               | 10 kB 27.4 MB/s eta 0:00:01\r\u001b[K     |█▊                              | 20 kB 31.1 MB/s eta 0:00:01\r\u001b[K     |██▋                             | 30 kB 33.2 MB/s eta 0:00:01\r\u001b[K     |███▌                            | 40 kB 33.0 MB/s eta 0:00:01\r\u001b[K     |████▍                           | 51 kB 34.8 MB/s eta 0:00:01\r\u001b[K     |█████▎                          | 61 kB 37.2 MB/s eta 0:00:01\r\u001b[K     |██████▏                         | 71 kB 35.4 MB/s eta 0:00:01\r\u001b[K     |███████                         | 81 kB 35.4 MB/s eta 0:00:01\r\u001b[K     |████████                        | 92 kB 36.0 MB/s eta 0:00:01\r\u001b[K     |████████▉                       | 102 kB 37.9 MB/s eta 0:00:01\r\u001b[K     |█████████▊                      | 112 kB 37.9 MB/s eta 0:00:01\r\u001b[K     |██████████▋                     | 122 kB 37.9 MB/s eta 0:00:01\r\u001b[K     |███████████▌                    | 133 kB 37.9 MB/s eta 0:00:01\r\u001b[K     |████████████▍                   | 143 kB 37.9 MB/s eta 0:00:01\r\u001b[K     |█████████████▎                  | 153 kB 37.9 MB/s eta 0:00:01\r\u001b[K     |██████████████                  | 163 kB 37.9 MB/s eta 0:00:01\r\u001b[K     |███████████████                 | 174 kB 37.9 MB/s eta 0:00:01\r\u001b[K     |███████████████▉                | 184 kB 37.9 MB/s eta 0:00:01\r\u001b[K     |████████████████▊               | 194 kB 37.9 MB/s eta 0:00:01\r\u001b[K     |█████████████████▋              | 204 kB 37.9 MB/s eta 0:00:01\r\u001b[K     |██████████████████▌             | 215 kB 37.9 MB/s eta 0:00:01\r\u001b[K     |███████████████████▍            | 225 kB 37.9 MB/s eta 0:00:01\r\u001b[K     |████████████████████▎           | 235 kB 37.9 MB/s eta 0:00:01\r\u001b[K     |█████████████████████▏          | 245 kB 37.9 MB/s eta 0:00:01\r\u001b[K     |██████████████████████          | 256 kB 37.9 MB/s eta 0:00:01\r\u001b[K     |███████████████████████         | 266 kB 37.9 MB/s eta 0:00:01\r\u001b[K     |███████████████████████▉        | 276 kB 37.9 MB/s eta 0:00:01\r\u001b[K     |████████████████████████▊       | 286 kB 37.9 MB/s eta 0:00:01\r\u001b[K     |█████████████████████████▋      | 296 kB 37.9 MB/s eta 0:00:01\r\u001b[K     |██████████████████████████▌     | 307 kB 37.9 MB/s eta 0:00:01\r\u001b[K     |███████████████████████████▎    | 317 kB 37.9 MB/s eta 0:00:01\r\u001b[K     |████████████████████████████▏   | 327 kB 37.9 MB/s eta 0:00:01\r\u001b[K     |█████████████████████████████   | 337 kB 37.9 MB/s eta 0:00:01\r\u001b[K     |██████████████████████████████  | 348 kB 37.9 MB/s eta 0:00:01\r\u001b[K     |██████████████████████████████▉ | 358 kB 37.9 MB/s eta 0:00:01\r\u001b[K     |███████████████████████████████▊| 368 kB 37.9 MB/s eta 0:00:01\r\u001b[K     |████████████████████████████████| 371 kB 37.9 MB/s \n",
            "\u001b[?25h  Installing build dependencies ... \u001b[?25l\u001b[?25hdone\n",
            "  Getting requirements to build wheel ... \u001b[?25l\u001b[?25hdone\n",
            "    Preparing wheel metadata ... \u001b[?25l\u001b[?25hdone\n",
            "Collecting slicer==0.0.7\n",
            "  Downloading slicer-0.0.7-py3-none-any.whl (14 kB)\n",
            "Requirement already satisfied: scikit-learn in /usr/local/lib/python3.7/dist-packages (from shap) (1.0.1)\n",
            "Requirement already satisfied: cloudpickle in /usr/local/lib/python3.7/dist-packages (from shap) (1.3.0)\n",
            "Requirement already satisfied: numba in /usr/local/lib/python3.7/dist-packages (from shap) (0.51.2)\n",
            "Requirement already satisfied: pandas in /usr/local/lib/python3.7/dist-packages (from shap) (1.1.5)\n",
            "Requirement already satisfied: scipy in /usr/local/lib/python3.7/dist-packages (from shap) (1.4.1)\n",
            "Requirement already satisfied: numpy in /usr/local/lib/python3.7/dist-packages (from shap) (1.19.5)\n",
            "Requirement already satisfied: tqdm>4.25.0 in /usr/local/lib/python3.7/dist-packages (from shap) (4.62.3)\n",
            "Requirement already satisfied: packaging>20.9 in /usr/local/lib/python3.7/dist-packages (from shap) (21.3)\n",
            "Requirement already satisfied: pyparsing!=3.0.5,>=2.0.2 in /usr/local/lib/python3.7/dist-packages (from packaging>20.9->shap) (3.0.6)\n",
            "Requirement already satisfied: llvmlite<0.35,>=0.34.0.dev0 in /usr/local/lib/python3.7/dist-packages (from numba->shap) (0.34.0)\n",
            "Requirement already satisfied: setuptools in /usr/local/lib/python3.7/dist-packages (from numba->shap) (57.4.0)\n",
            "Requirement already satisfied: pytz>=2017.2 in /usr/local/lib/python3.7/dist-packages (from pandas->shap) (2018.9)\n",
            "Requirement already satisfied: python-dateutil>=2.7.3 in /usr/local/lib/python3.7/dist-packages (from pandas->shap) (2.8.2)\n",
            "Requirement already satisfied: six>=1.5 in /usr/local/lib/python3.7/dist-packages (from python-dateutil>=2.7.3->pandas->shap) (1.15.0)\n",
            "Requirement already satisfied: threadpoolctl>=2.0.0 in /usr/local/lib/python3.7/dist-packages (from scikit-learn->shap) (3.0.0)\n",
            "Requirement already satisfied: joblib>=0.11 in /usr/local/lib/python3.7/dist-packages (from scikit-learn->shap) (1.1.0)\n",
            "Building wheels for collected packages: shap\n",
            "  Building wheel for shap (PEP 517) ... \u001b[?25l\u001b[?25hdone\n",
            "  Created wheel for shap: filename=shap-0.40.0-cp37-cp37m-linux_x86_64.whl size=509235 sha256=5b22fad2039b4c52a188a90c4d776849f7fc45cb2ac6f46638fccca976b1e008\n",
            "  Stored in directory: /root/.cache/pip/wheels/ec/35/84/e304841ac4b910bc95fe9a6e5302eb2507b4333728851dcbfb\n",
            "Successfully built shap\n",
            "Installing collected packages: slicer, shap\n",
            "Successfully installed shap-0.40.0 slicer-0.0.7\n"
          ]
        }
      ]
    },
    {
      "cell_type": "code",
      "metadata": {
        "colab": {
          "base_uri": "https://localhost:8080/"
        },
        "id": "5w3f36AWuDGL",
        "outputId": "20e4e438-f973-4449-efe3-4a8daf75348e"
      },
      "source": [
        "!pip install numba"
      ],
      "execution_count": null,
      "outputs": [
        {
          "output_type": "stream",
          "name": "stdout",
          "text": [
            "Requirement already satisfied: numba in /usr/local/lib/python3.7/dist-packages (0.51.2)\n",
            "Requirement already satisfied: llvmlite<0.35,>=0.34.0.dev0 in /usr/local/lib/python3.7/dist-packages (from numba) (0.34.0)\n",
            "Requirement already satisfied: numpy>=1.15 in /usr/local/lib/python3.7/dist-packages (from numba) (1.19.5)\n",
            "Requirement already satisfied: setuptools in /usr/local/lib/python3.7/dist-packages (from numba) (57.4.0)\n"
          ]
        }
      ]
    },
    {
      "cell_type": "code",
      "metadata": {
        "id": "i1UkP1c3vs1T"
      },
      "source": [
        "#Import libraries\n",
        "import pandas as pd\n",
        "import numpy as np\n",
        "import plotly\n",
        "np.random.seed(0)\n",
        "import matplotlib.pyplot as plt\n",
        "import shap"
      ],
      "execution_count": null,
      "outputs": []
    },
    {
      "cell_type": "code",
      "metadata": {
        "colab": {
          "base_uri": "https://localhost:8080/"
        },
        "id": "MyX51oAMvyoO",
        "outputId": "d5d048d4-0ffb-449e-b52c-aaa90a89a70b"
      },
      "source": [
        "# Implementing Random Forest Regressor:\n",
        "from sklearn import preprocessing\n",
        "from sklearn.ensemble import RandomForestRegressor\n",
        "model = RandomForestRegressor(max_depth=6, random_state=0, n_estimators=10)\n",
        "\n",
        "# Fit the model\n",
        "model.fit(x_trainscale, y_train)  \n",
        "print(model.feature_importances_)"
      ],
      "execution_count": null,
      "outputs": [
        {
          "output_type": "stream",
          "name": "stdout",
          "text": [
            "[4.51453352e-02 2.14139838e-04 6.90632382e-04 0.00000000e+00\n",
            " 7.31647569e-04 2.77480262e-04 1.42041360e-03 1.50104887e-03\n",
            " 2.03017249e-03 6.81142823e-04 1.02740248e-03 6.87284171e-03\n",
            " 1.95547388e-02 8.90755621e-01 2.24755553e-04 1.14352817e-03\n",
            " 1.21921310e-03 2.74037935e-04 0.00000000e+00 1.77623301e-04\n",
            " 2.60582248e-02]\n"
          ]
        }
      ]
    },
    {
      "cell_type": "markdown",
      "metadata": {
        "id": "LJmAzbZ-9hpi"
      },
      "source": [
        "# Variable Importance Plot — Global Interpretability"
      ]
    },
    {
      "cell_type": "code",
      "metadata": {
        "colab": {
          "base_uri": "https://localhost:8080/",
          "height": 581
        },
        "id": "aPUsTtzQv484",
        "outputId": "c63b99b4-8079-4bc8-c3a9-ba869dc79a13"
      },
      "source": [
        "shap_values = shap.TreeExplainer(model).shap_values(x_trainscale)\n",
        "shap.summary_plot(shap_values, x_trainscale, plot_type=\"bar\")"
      ],
      "execution_count": null,
      "outputs": [
        {
          "output_type": "display_data",
          "data": {
            "image/png": "[encoded data removed]",
            "text/plain": [
              "<Figure size 576x684 with 1 Axes>"
            ]
          },
          "metadata": {
            "needs_background": "light"
          }
        }
      ]
    },
    {
      "cell_type": "markdown",
      "metadata": {
        "id": "k5kgg2nT9TG5"
      },
      "source": [
        "* **Interpretation**: \n",
        "\n"
      ]
    },
    {
      "cell_type": "markdown",
      "metadata": {
        "id": "6psINOOx360J"
      },
      "source": [
        "The details of the variables are - \n",
        "\n",
        "Feature 0 = battery_power \n",
        "\n",
        "Feature 1 = bluetooth \n",
        "\n",
        "Feature 2 = clock_speed \n",
        "\n",
        "Feature 3 = dual_sim  \n",
        "\n",
        "Feature 4 = fc \n",
        "\n",
        "Feature 5 = four_g \n",
        "\n",
        "Feature 6 = int_memory \n",
        "\n",
        "Feature 7 = m_dep   \n",
        "\n",
        "Feature 8 = mobile_wt  \n",
        "\n",
        "Feature 9 = n_cores    \n",
        "\n",
        "Feature 10 = pc     \n",
        "\n",
        "Feature 11 = px_height \n",
        "\n",
        "Feature 12 = px_width  \n",
        "\n",
        "Feature 13 = ram\n",
        "\n",
        "Feature 14 = sc_h  \n",
        "\n",
        "Feature 15 = sc_w     \n",
        "\n",
        "Feature 16 = talk_time  \n",
        "\n",
        "Feature 17 = three_g   \n",
        "\n",
        "Feature 18 = touch_screen \n",
        "   \n",
        "Feature 19 = wifi     \n",
        "\n",
        "Feature 20 - Disp_Resolution\n"
      ]
    },
    {
      "cell_type": "code",
      "metadata": {
        "colab": {
          "base_uri": "https://localhost:8080/",
          "height": 585
        },
        "id": "W3i9G02tv_8f",
        "outputId": "dd61321f-44a2-4271-e5b3-9d68601d4f0e"
      },
      "source": [
        "shap.summary_plot(shap_values, x_trainscale)"
      ],
      "execution_count": null,
      "outputs": [
        {
          "output_type": "display_data",
          "data": {
            "image/png": "[encoded data removed]",
            "text/plain": [
              "<Figure size 576x684 with 2 Axes>"
            ]
          },
          "metadata": {
            "needs_background": "light"
          }
        }
      ]
    },
    {
      "cell_type": "markdown",
      "metadata": {
        "id": "k-v85VaE6wph"
      },
      "source": [
        "* **Interpretation**: \n",
        "We can describe a predictive model that predicts mobile price range as associated with the following characteristics:\n",
        "\n",
        "High \"ram\" value\n",
        "\n",
        "High \"battery power\"\n",
        "\n",
        "High \"Display resolution\"\n",
        "\n",
        "High \"px_width\"\n",
        "\n",
        "High \"px_height\"\n",
        "\n",
        "Low \"mobile_wt\"\n",
        "\n",
        "High \"int_memory\"\n",
        "\n",
        "High \"Talktime\"\n",
        "\n"
      ]
    },
    {
      "cell_type": "code",
      "metadata": {
        "colab": {
          "base_uri": "https://localhost:8080/",
          "height": 337
        },
        "id": "TghDec1wxJEz",
        "outputId": "1ecf96cf-08d9-45a6-f625-54aa775821ca"
      },
      "source": [
        "# the interaction is really in the model see SHAP interaction values below\n",
        "shap.dependence_plot(\"Feature 13\", shap_values, x_trainscale)"
      ],
      "execution_count": null,
      "outputs": [
        {
          "output_type": "display_data",
          "data": {
            "image/png": "[encoded data removed]",
            "text/plain": [
              "<Figure size 540x360 with 2 Axes>"
            ]
          },
          "metadata": {
            "needs_background": "light"
          }
        }
      ]
    },
    {
      "cell_type": "markdown",
      "metadata": {
        "id": "y9wp9-vk60DB"
      },
      "source": [
        "* **Interpretation:** \n",
        "The function automatically includes another variable that your chosen variable interacts most with. The above plot shows there is an approximately linear and positive trend between “Feature 13” i.e, \"ram\" and the target variable, and \"ram\" interacts with “battery_power” frequently."
      ]
    },
    {
      "cell_type": "code",
      "metadata": {
        "colab": {
          "base_uri": "https://localhost:8080/",
          "height": 337
        },
        "id": "eJaPrWSp66Sh",
        "outputId": "4e120056-0ad0-42c4-fddb-50fea78a1f54"
      },
      "source": [
        "shap.dependence_plot(\"Feature 0\", shap_values, x_trainscale)"
      ],
      "execution_count": null,
      "outputs": [
        {
          "output_type": "display_data",
          "data": {
            "image/png": "[encoded data removed]",
            "text/plain": [
              "<Figure size 540x360 with 2 Axes>"
            ]
          },
          "metadata": {
            "needs_background": "light"
          }
        }
      ]
    },
    {
      "cell_type": "markdown",
      "metadata": {
        "id": "kRCFGYp07mJO"
      },
      "source": [
        "*  **Interpretation:**\n",
        "\n",
        "Again, The above plot shows there is an approximately linear and positive trend between “Feature 0” i.e, \"battery power\" and the target variable, and“battery_power” interacts with \"ram\" frequently."
      ]
    },
    {
      "cell_type": "code",
      "metadata": {
        "colab": {
          "base_uri": "https://localhost:8080/",
          "height": 337
        },
        "id": "2WzpHodW7A4I",
        "outputId": "73f2768d-0a2d-4d32-d212-008245a7d20e"
      },
      "source": [
        "shap.dependence_plot(\"Feature 20\", shap_values, x_trainscale)"
      ],
      "execution_count": null,
      "outputs": [
        {
          "output_type": "display_data",
          "data": {
            "image/png": "[encoded data removed]",
            "text/plain": [
              "<Figure size 540x360 with 2 Axes>"
            ]
          },
          "metadata": {
            "needs_background": "light"
          }
        }
      ]
    },
    {
      "cell_type": "markdown",
      "metadata": {
        "id": "YKwIaBhx_IWc"
      },
      "source": [
        "* **Interpretation:**\n",
        "Again, The above plot shows there is an approximately linear and positive trend between “Feature 20” i.e, \"Disp_Resolution\" and the target variable, Disp_Resolution interacts with \"ram\" frequently."
      ]
    },
    {
      "cell_type": "markdown",
      "metadata": {
        "id": "WvBkG98dqWDe"
      },
      "source": [
        "# **Part D- Predictive Modeling** "
      ]
    },
    {
      "cell_type": "markdown",
      "metadata": {
        "id": "UmiE_ithyeo5"
      },
      "source": [
        "## **1. Random forest Classifier**"
      ]
    },
    {
      "cell_type": "code",
      "metadata": {
        "id": "ISVtEg8DqNC8"
      },
      "source": [
        "from sklearn.ensemble import RandomForestClassifier as rfc\n",
        "from sklearn.model_selection import cross_val_score as cvs\n",
        "from sklearn.model_selection import validation_curve\n",
        "from sklearn import metrics\n",
        "\n",
        "r = rfc().fit(x_trainscale,y_train)\n",
        "y_pred = r.predict(x_testscale)\n",
        "v = cvs(rfc(), x_trainscale, y_train, cv=3)"
      ],
      "execution_count": null,
      "outputs": []
    },
    {
      "cell_type": "code",
      "metadata": {
        "id": "7aEuRznDwy_y"
      },
      "source": [
        "res = pd.DataFrame({'id':test_data['id'],'price_range':y_pred})\n",
        "res.to_csv(r'C:\\Users\\adity\\OneDrive\\Desktop\\NIKITA\\Semester 1\\Data Science\\result_rfc.csv',index=False)"
      ],
      "execution_count": null,
      "outputs": []
    },
    {
      "cell_type": "code",
      "metadata": {
        "colab": {
          "base_uri": "https://localhost:8080/"
        },
        "id": "k_YzfDLVxCrn",
        "outputId": "87948b66-1e1a-434a-dab0-a114c6cfe806"
      },
      "source": [
        "print(v)"
      ],
      "execution_count": null,
      "outputs": [
        {
          "output_type": "stream",
          "name": "stdout",
          "text": [
            "[0.8372591  0.85438972 0.86909871]\n"
          ]
        }
      ]
    },
    {
      "cell_type": "code",
      "metadata": {
        "colab": {
          "base_uri": "https://localhost:8080/"
        },
        "id": "j2kPfyAZKm8m",
        "outputId": "eee37a9f-c35c-402e-bc9d-a95d717691d8"
      },
      "source": [
        "# Printing the confusion matrix\n",
        "# The columns will show the instances predicted for each label,\n",
        "# and the rows will show the actual number of instances for each label.\n",
        "print(metrics.confusion_matrix(y_true, y_pred, labels=[0, 2, 1, 3]))\n",
        "# Printing the precision and recall, among other metrics\n",
        "print(metrics.classification_report(y_true, y_pred, labels=[0, 2, 1, 3]))"
      ],
      "execution_count": null,
      "outputs": [
        {
          "output_type": "stream",
          "name": "stdout",
          "text": [
            "[[34 41 46 42]\n",
            " [30 32 36 40]\n",
            " [37 32 31 29]\n",
            " [46 38 44 42]]\n",
            "              precision    recall  f1-score   support\n",
            "\n",
            "           0       0.23      0.21      0.22       163\n",
            "           2       0.22      0.23      0.23       138\n",
            "           1       0.20      0.24      0.22       129\n",
            "           3       0.27      0.25      0.26       170\n",
            "\n",
            "    accuracy                           0.23       600\n",
            "   macro avg       0.23      0.23      0.23       600\n",
            "weighted avg       0.23      0.23      0.23       600\n",
            "\n"
          ]
        }
      ]
    },
    {
      "cell_type": "code",
      "metadata": {
        "colab": {
          "base_uri": "https://localhost:8080/"
        },
        "id": "ne4cJttjKuAP",
        "outputId": "b8aa3cbd-f837-430d-abe7-32f2db91ce64"
      },
      "source": [
        "from sklearn.metrics import accuracy_score\n",
        "accuracy_score(y_true, y_pred)"
      ],
      "execution_count": null,
      "outputs": [
        {
          "output_type": "execute_result",
          "data": {
            "text/plain": [
              "0.23166666666666666"
            ]
          },
          "metadata": {},
          "execution_count": 52
        }
      ]
    },
    {
      "cell_type": "markdown",
      "metadata": {
        "id": "ugdbAkr4fTDh"
      },
      "source": [
        "## **Optimisation using hyperparameter tuning**\n",
        "\n",
        "**n_estimators** = number of trees in the forest\n",
        "\n",
        "**max_features** = max number of features considered for splitting a node\n",
        "\n",
        "**max_depth** = max number of levels in each decision tree\n",
        "\n",
        "**min_samples_split** = min number of data points placed in a node before the node is split\n",
        "\n",
        "**min_samples_leaf** = min number of data points allowed in a leaf node\n",
        "\n",
        "bootstrap = method for sampling data points (with or without replacement)"
      ]
    },
    {
      "cell_type": "code",
      "metadata": {
        "id": "diBDQdnUfOIi"
      },
      "source": [
        "from sklearn.model_selection import GridSearchCV\n",
        "\n",
        "from sklearn.ensemble import RandomForestClassifier\n"
      ],
      "execution_count": null,
      "outputs": []
    },
    {
      "cell_type": "code",
      "metadata": {
        "id": "_EzSwa3pnSBR"
      },
      "source": [
        "#from sklearn.model_selection import RandomizedSearchCV\n",
        "\n",
        "# Number of trees in random forest\n",
        "# n_estimators = [int(x) for x in np.linspace(start = 200, stop = 2000, num = 10)]\n",
        "\n",
        "# Number of features to consider at every split\n",
        "# max_features = ['auto', 'sqrt']\n",
        "\n",
        "# Maximum number of levels in tree\n",
        "# max_depth = [int(x) for x in np.linspace(10, 110, num = 11)]\n",
        "# max_depth.append(None)\n",
        "\n",
        "# Minimum number of samples required to split a node\n",
        "# min_samples_split = [2, 5, 10]\n",
        "\n",
        "# Minimum number of samples required at each leaf node\n",
        "# min_samples_leaf = [1, 2, 4]\n",
        "\n",
        "# Method of selecting samples for training each tree\n",
        "# bootstrap = [True, False]\n",
        "\n",
        "# Create the random grid\n",
        "# random_grid = {'n_estimators': n_estimators, 'max_features': max_features, 'max_depth': max_depth, 'min_samples_split': min_samples_split, 'min_samples_leaf': min_samples_leaf, 'bootstrap': bootstrap}\n",
        "\n",
        "# pprint(random_grid)\n",
        "# {'bootstrap': [True, False],\n",
        "# 'max_depth': [10, 20, 30, 40, 50, 60, 70, 80, 90, 100, None],\n",
        "# 'max_features': ['auto', 'sqrt'],\n",
        "# 'min_samples_leaf': [1, 2, 4],\n",
        "# 'min_samples_split': [2, 5, 10],\n",
        "# 'n_estimators': [200, 400, 600, 800, 1000, 1200, 1400, 1600, 1800, 2000]}"
      ],
      "execution_count": null,
      "outputs": []
    },
    {
      "cell_type": "code",
      "metadata": {
        "id": "I9TlCNRjfOFN"
      },
      "source": [
        "model_params = {\n",
        "    'n_estimators': [50, 150, 250],\n",
        "    'max_features': ['sqrt', 0.25, 0.5, 0.75, 1.0],\n",
        "    'min_samples_split': [2, 4, 6]\n",
        "}"
      ],
      "execution_count": null,
      "outputs": []
    },
    {
      "cell_type": "code",
      "metadata": {
        "id": "QSGicfg6fOAD"
      },
      "source": [
        "# Use the random grid to search for best hyperparameters\n",
        "\n",
        "# First create the base model to tune\n",
        "rf_model = RandomForestClassifier(random_state=1)\n",
        "# set up grid search meta-estimator\n",
        "clf = GridSearchCV(rf_model, model_params, cv=5)"
      ],
      "execution_count": null,
      "outputs": []
    },
    {
      "cell_type": "code",
      "metadata": {
        "id": "3QONADyxiibu"
      },
      "source": [
        "# train the grid search meta-estimator to find the best model\n",
        "# Fit the random search model\n",
        "model = clf.fit(x_trainscale, y_train)"
      ],
      "execution_count": null,
      "outputs": []
    },
    {
      "cell_type": "code",
      "metadata": {
        "colab": {
          "base_uri": "https://localhost:8080/"
        },
        "id": "X9vFBJ4yfjVe",
        "outputId": "9624361e-0275-4b08-9d35-ea2544f844b6"
      },
      "source": [
        "from pprint import pprint\n",
        "pprint(model.best_estimator_.get_params())"
      ],
      "execution_count": null,
      "outputs": [
        {
          "output_type": "stream",
          "name": "stdout",
          "text": [
            "{'bootstrap': True,\n",
            " 'ccp_alpha': 0.0,\n",
            " 'class_weight': None,\n",
            " 'criterion': 'gini',\n",
            " 'max_depth': None,\n",
            " 'max_features': 0.75,\n",
            " 'max_leaf_nodes': None,\n",
            " 'max_samples': None,\n",
            " 'min_impurity_decrease': 0.0,\n",
            " 'min_samples_leaf': 1,\n",
            " 'min_samples_split': 6,\n",
            " 'min_weight_fraction_leaf': 0.0,\n",
            " 'n_estimators': 50,\n",
            " 'n_jobs': None,\n",
            " 'oob_score': False,\n",
            " 'random_state': 1,\n",
            " 'verbose': 0,\n",
            " 'warm_start': False}\n"
          ]
        }
      ]
    },
    {
      "cell_type": "code",
      "metadata": {
        "colab": {
          "base_uri": "https://localhost:8080/"
        },
        "id": "HpcA6rzBzQ48",
        "outputId": "77ea8c22-38da-49b9-dd67-13f533438211"
      },
      "source": [
        "import warnings\n",
        "warnings.filterwarnings(\"ignore\")\n",
        "print(model.best_params_)\n",
        "print(model.best_score_)"
      ],
      "execution_count": null,
      "outputs": [
        {
          "output_type": "stream",
          "name": "stdout",
          "text": [
            "{'max_features': 0.75, 'min_samples_split': 6, 'n_estimators': 50}\n",
            "0.8985714285714286\n"
          ]
        }
      ]
    },
    {
      "cell_type": "code",
      "metadata": {
        "id": "u0nDM9gr_qCc"
      },
      "source": [
        "optimised_r = rfc(max_features= 0.75, \n",
        "                  min_samples_split = 6,\n",
        "                  n_estimators = 50)\n",
        "optimised_model = optimised_r.fit(x_trainscale,y_train)\n",
        "y_pred_orfc = optimised_r.predict(x_testscale)\n",
        "vv = cvs(optimised_r, x_trainscale, y_train, cv=3)"
      ],
      "execution_count": null,
      "outputs": []
    },
    {
      "cell_type": "code",
      "metadata": {
        "colab": {
          "base_uri": "https://localhost:8080/"
        },
        "id": "jEQIOjyNK7OB",
        "outputId": "a31e315d-3aa7-415c-b3e4-eb374ece556c"
      },
      "source": [
        "print(vv)"
      ],
      "execution_count": null,
      "outputs": [
        {
          "output_type": "stream",
          "name": "stdout",
          "text": [
            "[0.89721627 0.90364026 0.88197425]\n"
          ]
        }
      ]
    },
    {
      "cell_type": "code",
      "metadata": {
        "colab": {
          "base_uri": "https://localhost:8080/"
        },
        "id": "fbhpVHqdhZCD",
        "outputId": "7de6758d-f576-4cf6-c2e1-814d36574dfd"
      },
      "source": [
        "new_predictions = optimised_model.predict(x_testscale)\n",
        "print(new_predictions)"
      ],
      "execution_count": null,
      "outputs": [
        {
          "output_type": "stream",
          "name": "stdout",
          "text": [
            "[3 3 1 1 3 3 0 0 2 3 1 1 0 1 0 1 3 1 3 2 3 2 2 0 3 2 1 3 2 3 2 3 0 1 1 2 2\n",
            " 2 1 2 3 1 2 3 0 2 2 3 2 3 1 0 0 3 0 2 1 1 2 3 3 1 1 3 2 2 2 2 0 0 0 0 0 3\n",
            " 3 0 2 1 0 2 1 2 1 3 0 2 0 1 3 2 1 2 0 3 3 3 3 3 0 0 1 0 1 1 1 3 1 3 3 2 1\n",
            " 1 0 2 1 2 1 0 3 1 2 1 1 0 1 1 1 3 0 0 3 2 0 0 0 0 1 2 1 2 2 0 2 0 3 3 0 3\n",
            " 2 0 3 1 2 3 2 1 0 3 1 2 3 1 1 3 0 0 3 1 0 2 3 2 0 1 2 2 0 1 1 1 2 0 1 3 2\n",
            " 2 0 3 3 1 0 2 2 0 3 2 0 1 3 3 0 1 1 2 3 0 2 3 0 2 3 0 2 3 1 2 3 1 2 2 3 0\n",
            " 2 2 2 1 2 3 0 3 1 0 2 3 3 1 3 0 1 3 2 2 0 1 2 0 1 2 3 0 3 0 2 0 2 3 3 1 1\n",
            " 3 1 0 2 0 3 2 2 2 1 3 1 3 3 1 0 3 0 3 1 2 3 2 1 3 3 1 1 2 2 2 1 1 1 2 1 1\n",
            " 2 0 0 0 2 3 1 3 1 2 3 0 1 3 0 0 0 3 1 1 2 1 2 0 2 1 1 1 1 0 1 1 3 3 2 0 2\n",
            " 0 3 0 3 0 3 1 1 3 3 2 2 0 3 1 1 2 0 1 1 3 1 0 0 3 2 3 3 0 2 2 0 0 3 3 2 2\n",
            " 3 3 3 3 3 2 1 0 3 1 0 0 3 0 0 0 2 1 3 0 3 1 1 1 2 0 1 1 1 1 2 0 1 1 0 0 0\n",
            " 2 0 1 2 1 2 3 3 3 2 2 2 0 1 1 1 2 0 2 0 0 2 0 0 0 0 2 1 3 2 1 0 2 0 2 2 1\n",
            " 2 2 1 1 0 3 1 3 3 3 1 0 3 0 1 2 0 1 0 3 3 0 0 0 1 0 0 0 0 2 0 1 1 2 0 3 2\n",
            " 1 0 1 3 3 1 1 1 2 3 1 0 2 1 1 0 2 1 3 2 0 3 0 1 3 1 1 3 3 0 2 2 2 3 2 0 2\n",
            " 3 0 1 3 0 3 3 1 2 1 2 0 2 2 0 3 3 0 1 3 3 3 1 1 0 1 0 0 0 1 3 1 3 3 1 0 0\n",
            " 1 3 2 3 0 3 1 2 3 2 0 1 3 2 2 2 3 3 2 1 2 2 1 2 2 3 1 0 0 1 0 3 2 0 0 2 1\n",
            " 0 0 0 1 3 0 0 3]\n"
          ]
        }
      ]
    },
    {
      "cell_type": "code",
      "metadata": {
        "id": "ZwlBXcO3jrL2"
      },
      "source": [
        "optimised_output = pd.DataFrame({'id':test_data['id'],'price_range':new_predictions})\n",
        "optimised_output.to_csv(r'C:\\Users\\adity\\OneDrive\\Desktop\\NIKITA\\Semester 1\\Data Science\\result_rfc22.csv',index=False)"
      ],
      "execution_count": null,
      "outputs": []
    },
    {
      "cell_type": "code",
      "metadata": {
        "id": "hRb3oTMY_kDe"
      },
      "source": [
        "# Importing the dependancies\n",
        "from sklearn import metrics"
      ],
      "execution_count": null,
      "outputs": []
    },
    {
      "cell_type": "code",
      "metadata": {
        "colab": {
          "base_uri": "https://localhost:8080/"
        },
        "id": "JI_guicFAtD3",
        "outputId": "ca58d24d-97ab-472e-fae7-422e29b93a7d"
      },
      "source": [
        "# Predicted values\n",
        "new_predictions"
      ],
      "execution_count": null,
      "outputs": [
        {
          "output_type": "execute_result",
          "data": {
            "text/plain": [
              "array([3, 3, 1, 1, 3, 3, 0, 0, 2, 3, 1, 1, 0, 1, 0, 1, 3, 1, 3, 2, 3, 2,\n",
              "       2, 0, 3, 2, 1, 3, 2, 3, 2, 3, 0, 1, 1, 2, 2, 2, 1, 2, 3, 1, 2, 3,\n",
              "       0, 2, 2, 3, 2, 3, 1, 0, 0, 3, 0, 2, 1, 1, 2, 3, 3, 1, 1, 3, 2, 2,\n",
              "       2, 2, 0, 0, 0, 0, 0, 3, 3, 0, 2, 1, 0, 2, 1, 2, 1, 3, 0, 2, 0, 1,\n",
              "       3, 2, 1, 2, 0, 3, 3, 3, 3, 3, 0, 0, 1, 0, 1, 1, 1, 3, 1, 3, 3, 2,\n",
              "       1, 1, 0, 2, 1, 2, 1, 0, 3, 1, 2, 1, 1, 0, 1, 1, 1, 3, 0, 0, 3, 2,\n",
              "       0, 0, 0, 0, 1, 2, 1, 2, 2, 0, 2, 0, 3, 3, 0, 3, 2, 0, 3, 1, 2, 3,\n",
              "       2, 1, 0, 3, 1, 2, 3, 1, 1, 3, 0, 0, 3, 1, 0, 2, 3, 2, 0, 1, 2, 2,\n",
              "       0, 1, 1, 1, 2, 0, 1, 3, 2, 2, 0, 3, 3, 1, 0, 2, 2, 0, 3, 2, 0, 1,\n",
              "       3, 3, 0, 1, 1, 2, 3, 0, 2, 3, 0, 2, 3, 0, 2, 3, 1, 2, 3, 1, 2, 2,\n",
              "       3, 0, 2, 2, 2, 1, 2, 3, 0, 3, 1, 0, 2, 3, 3, 1, 3, 0, 1, 3, 2, 2,\n",
              "       0, 1, 2, 0, 1, 2, 3, 0, 3, 0, 2, 0, 2, 3, 3, 1, 1, 3, 1, 0, 2, 0,\n",
              "       3, 2, 2, 2, 1, 3, 1, 3, 3, 1, 0, 3, 0, 3, 1, 2, 3, 2, 1, 3, 3, 1,\n",
              "       1, 2, 2, 2, 1, 1, 1, 2, 1, 1, 2, 0, 0, 0, 2, 3, 1, 3, 1, 2, 3, 0,\n",
              "       1, 3, 0, 0, 0, 3, 1, 1, 2, 1, 2, 0, 2, 1, 1, 1, 1, 0, 1, 1, 3, 3,\n",
              "       2, 0, 2, 0, 3, 0, 3, 0, 3, 1, 1, 3, 3, 2, 2, 0, 3, 1, 1, 2, 0, 1,\n",
              "       1, 3, 1, 0, 0, 3, 2, 3, 3, 0, 2, 2, 0, 0, 3, 3, 2, 2, 3, 3, 3, 3,\n",
              "       3, 2, 1, 0, 3, 1, 0, 0, 3, 0, 0, 0, 2, 1, 3, 0, 3, 1, 1, 1, 2, 0,\n",
              "       1, 1, 1, 1, 2, 0, 1, 1, 0, 0, 0, 2, 0, 1, 2, 1, 2, 3, 3, 3, 2, 2,\n",
              "       2, 0, 1, 1, 1, 2, 0, 2, 0, 0, 2, 0, 0, 0, 0, 2, 1, 3, 2, 1, 0, 2,\n",
              "       0, 2, 2, 1, 2, 2, 1, 1, 0, 3, 1, 3, 3, 3, 1, 0, 3, 0, 1, 2, 0, 1,\n",
              "       0, 3, 3, 0, 0, 0, 1, 0, 0, 0, 0, 2, 0, 1, 1, 2, 0, 3, 2, 1, 0, 1,\n",
              "       3, 3, 1, 1, 1, 2, 3, 1, 0, 2, 1, 1, 0, 2, 1, 3, 2, 0, 3, 0, 1, 3,\n",
              "       1, 1, 3, 3, 0, 2, 2, 2, 3, 2, 0, 2, 3, 0, 1, 3, 0, 3, 3, 1, 2, 1,\n",
              "       2, 0, 2, 2, 0, 3, 3, 0, 1, 3, 3, 3, 1, 1, 0, 1, 0, 0, 0, 1, 3, 1,\n",
              "       3, 3, 1, 0, 0, 1, 3, 2, 3, 0, 3, 1, 2, 3, 2, 0, 1, 3, 2, 2, 2, 3,\n",
              "       3, 2, 1, 2, 2, 1, 2, 2, 3, 1, 0, 0, 1, 0, 3, 2, 0, 0, 2, 1, 0, 0,\n",
              "       0, 1, 3, 0, 0, 3])"
            ]
          },
          "metadata": {},
          "execution_count": 65
        }
      ]
    },
    {
      "cell_type": "code",
      "metadata": {
        "colab": {
          "base_uri": "https://localhost:8080/"
        },
        "id": "4OF3KVgYAtCK",
        "outputId": "08cbaa97-9d7b-4806-90c5-46e33737960d"
      },
      "source": [
        "# Actual values\n",
        "y_true"
      ],
      "execution_count": null,
      "outputs": [
        {
          "output_type": "execute_result",
          "data": {
            "text/plain": [
              "0      0\n",
              "1      2\n",
              "2      1\n",
              "3      1\n",
              "4      3\n",
              "      ..\n",
              "595    0\n",
              "596    1\n",
              "597    3\n",
              "598    0\n",
              "599    3\n",
              "Name: price_range, Length: 600, dtype: int64"
            ]
          },
          "metadata": {},
          "execution_count": 66
        }
      ]
    },
    {
      "cell_type": "code",
      "metadata": {
        "colab": {
          "base_uri": "https://localhost:8080/"
        },
        "id": "8rKzDS_WAtAA",
        "outputId": "a69e9414-769b-438d-93e6-2808ff78ab20"
      },
      "source": [
        "# Printing the confusion matrix\n",
        "# The columns will show the instances predicted for each label,\n",
        "# and the rows will show the actual number of instances for each label.\n",
        "print(metrics.confusion_matrix(y_true, new_predictions, labels=[0, 2, 1, 3]))\n",
        "# Printing the precision and recall, among other metrics\n",
        "print(metrics.classification_report(y_true, new_predictions, labels=[0, 2, 1, 3]))"
      ],
      "execution_count": null,
      "outputs": [
        {
          "output_type": "stream",
          "name": "stdout",
          "text": [
            "[[35 43 47 38]\n",
            " [32 34 34 38]\n",
            " [37 31 31 30]\n",
            " [47 36 44 43]]\n",
            "              precision    recall  f1-score   support\n",
            "\n",
            "           0       0.23      0.21      0.22       163\n",
            "           2       0.24      0.25      0.24       138\n",
            "           1       0.20      0.24      0.22       129\n",
            "           3       0.29      0.25      0.27       170\n",
            "\n",
            "    accuracy                           0.24       600\n",
            "   macro avg       0.24      0.24      0.24       600\n",
            "weighted avg       0.24      0.24      0.24       600\n",
            "\n"
          ]
        }
      ]
    },
    {
      "cell_type": "code",
      "metadata": {
        "colab": {
          "base_uri": "https://localhost:8080/"
        },
        "id": "ERlQm0a_As7-",
        "outputId": "3be9dc73-b541-4e76-d941-38d04d059a87"
      },
      "source": [
        "from sklearn.metrics import accuracy_score\n",
        "accuracy_score(y_true, new_predictions)"
      ],
      "execution_count": null,
      "outputs": [
        {
          "output_type": "execute_result",
          "data": {
            "text/plain": [
              "0.23833333333333334"
            ]
          },
          "metadata": {},
          "execution_count": 68
        }
      ]
    },
    {
      "cell_type": "markdown",
      "metadata": {
        "id": "fuLHnA3hP3_d"
      },
      "source": [
        "## **Interpretation**: \n",
        "- Random forest classifier predicted the mobile price ranges with accuracy of \"0.2316\" and of \"0.2383\" post optimisation using hyperparameter tuning using Grid search.\n",
        "- Kaggle score went from \"0.88\" to \"0.925\""
      ]
    },
    {
      "cell_type": "markdown",
      "metadata": {
        "id": "_Bm3Xq9fS2on"
      },
      "source": [
        "## **2. Logistic Regression:**"
      ]
    },
    {
      "cell_type": "code",
      "metadata": {
        "id": "B7_fkJ982jAN"
      },
      "source": [
        "from sklearn.linear_model import LogisticRegression as lr\n",
        "from sklearn.model_selection import cross_val_score as cvs\n",
        "\n"
      ],
      "execution_count": null,
      "outputs": []
    },
    {
      "cell_type": "code",
      "metadata": {
        "colab": {
          "base_uri": "https://localhost:8080/"
        },
        "id": "O8JPwkwvuogX",
        "outputId": "e03940b0-b9d2-4307-ca67-b9267af9a651"
      },
      "source": [
        "logreg = lr().fit(x_trainscale,y_train)\n",
        "mmm = logreg.fit(x_trainscale,y_train)\n",
        "y_pred_lr = mmm.predict(x_testscale)\n",
        "a = cvs(lr(),x_trainscale,y_train, cv=3)\n",
        "print(a) "
      ],
      "execution_count": null,
      "outputs": [
        {
          "output_type": "stream",
          "name": "stdout",
          "text": [
            "[0.94004283 0.94860814 0.92274678]\n"
          ]
        }
      ]
    },
    {
      "cell_type": "code",
      "metadata": {
        "id": "lBex7abDuoc6"
      },
      "source": [
        "lr_pred = pd.DataFrame({'id':test_data['id'],'price_range':y_pred_lr})\n",
        "lr_pred.to_csv(r'C:\\Users\\adity\\OneDrive\\Desktop\\NIKITA\\Semester 1\\Data Science\\result_lr1.csv',index=False)"
      ],
      "execution_count": null,
      "outputs": []
    },
    {
      "cell_type": "code",
      "metadata": {
        "colab": {
          "base_uri": "https://localhost:8080/"
        },
        "id": "uXt4lIu45J2H",
        "outputId": "118f0d08-dd11-4f8c-abd3-fac0cb2e315a"
      },
      "source": [
        "# Printing the confusion matrix\n",
        "# The columns will show the instances predicted for each label,\n",
        "# and the rows will show the actual number of instances for each label.\n",
        "print(metrics.confusion_matrix(y_true, y_pred_lr, labels=[0, 2, 1, 3]))\n",
        "# Printing the precision and recall, among other metrics\n",
        "print(metrics.classification_report(y_true, y_pred_lr, labels=[0, 2, 1, 3]))"
      ],
      "execution_count": null,
      "outputs": [
        {
          "output_type": "stream",
          "name": "stdout",
          "text": [
            "[[35 38 46 44]\n",
            " [31 37 32 38]\n",
            " [37 34 31 27]\n",
            " [46 36 43 45]]\n",
            "              precision    recall  f1-score   support\n",
            "\n",
            "           0       0.23      0.21      0.22       163\n",
            "           2       0.26      0.27      0.26       138\n",
            "           1       0.20      0.24      0.22       129\n",
            "           3       0.29      0.26      0.28       170\n",
            "\n",
            "    accuracy                           0.25       600\n",
            "   macro avg       0.25      0.25      0.25       600\n",
            "weighted avg       0.25      0.25      0.25       600\n",
            "\n"
          ]
        }
      ]
    },
    {
      "cell_type": "code",
      "metadata": {
        "colab": {
          "base_uri": "https://localhost:8080/"
        },
        "id": "sOkWU_0NMCXN",
        "outputId": "0361f8e6-2fa3-4932-9e5b-c31042b5da3f"
      },
      "source": [
        "from sklearn.metrics import accuracy_score\n",
        "accuracy_score(y_true, y_pred_lr)"
      ],
      "execution_count": null,
      "outputs": [
        {
          "output_type": "execute_result",
          "data": {
            "text/plain": [
              "0.24666666666666667"
            ]
          },
          "metadata": {},
          "execution_count": 73
        }
      ]
    },
    {
      "cell_type": "markdown",
      "metadata": {
        "id": "ONPUhFCpv2Lu"
      },
      "source": [
        "## Optimisation using Hyperparameter tuning:"
      ]
    },
    {
      "cell_type": "code",
      "metadata": {
        "id": "-wRnmy6quoGP"
      },
      "source": [
        "from sklearn.model_selection import GridSearchCV                               # grid search\n",
        "gscx = {'C':np.logspace(-3,3,7),'penalty':['l1','l2']}"
      ],
      "execution_count": null,
      "outputs": []
    },
    {
      "cell_type": "code",
      "metadata": {
        "id": "9V3bYwI8uoDE"
      },
      "source": [
        "gscv = GridSearchCV(lr(),gscx).fit(x_trainscale,y_train)"
      ],
      "execution_count": null,
      "outputs": []
    },
    {
      "cell_type": "code",
      "metadata": {
        "id": "5Z2LdQ-lO38M",
        "colab": {
          "base_uri": "https://localhost:8080/"
        },
        "outputId": "b3e1aa32-7682-4101-b0c3-1db068e08dd5"
      },
      "source": [
        "import warnings\n",
        "warnings.filterwarnings(\"ignore\")\n",
        "print(gscv.best_params_)\n",
        "print(gscv.best_score_)"
      ],
      "execution_count": null,
      "outputs": [
        {
          "output_type": "stream",
          "name": "stdout",
          "text": [
            "{'C': 100.0, 'penalty': 'l2'}\n",
            "0.9635714285714286\n"
          ]
        }
      ]
    },
    {
      "cell_type": "code",
      "metadata": {
        "colab": {
          "base_uri": "https://localhost:8080/"
        },
        "id": "IYv-K9TTxaey",
        "outputId": "a3e297d0-e8f8-41fb-b0a0-0dbfca38bbbd"
      },
      "source": [
        "reg = lr(C=1000,penalty='l2').fit(x_trainscale,y_train)\n",
        "#m = reg.fit(x_trainscale,y_train)\n",
        "y_pred_olr=reg.predict(x_testscale)\n",
        "value = cvs(reg,x_trainscale,y_train,cv=3) \n",
        "\n",
        "print(value)\n",
        "\n",
        "zz = pd.DataFrame({'id':test_data['id'],'price_range':y_pred_olr})\n",
        "zz.to_csv(r'C:\\Users\\adity\\OneDrive\\Desktop\\NIKITA\\Semester 1\\Data Science\\result_lr.csv',index=False)"
      ],
      "execution_count": null,
      "outputs": [
        {
          "output_type": "stream",
          "name": "stdout",
          "text": [
            "[0.95717345 0.95289079 0.95922747]\n"
          ]
        }
      ]
    },
    {
      "cell_type": "code",
      "metadata": {
        "colab": {
          "base_uri": "https://localhost:8080/"
        },
        "id": "ZD7W3dPkMNd5",
        "outputId": "06f186ad-46b1-4ed7-8faa-69a04c83629f"
      },
      "source": [
        "# Printing the confusion matrix\n",
        "# The columns will show the instances predicted for each label,\n",
        "# and the rows will show the actual number of instances for each label.\n",
        "print(metrics.confusion_matrix(y_true, y_pred_olr, labels=[0, 2, 1, 3]))\n",
        "# Printing the precision and recall, among other metrics\n",
        "print(metrics.classification_report(y_true, y_pred_olr, labels=[0, 2, 1, 3]))"
      ],
      "execution_count": null,
      "outputs": [
        {
          "output_type": "stream",
          "name": "stdout",
          "text": [
            "[[35 41 45 42]\n",
            " [31 40 31 36]\n",
            " [37 35 30 27]\n",
            " [46 39 43 42]]\n",
            "              precision    recall  f1-score   support\n",
            "\n",
            "           0       0.23      0.21      0.22       163\n",
            "           2       0.26      0.29      0.27       138\n",
            "           1       0.20      0.23      0.22       129\n",
            "           3       0.29      0.25      0.26       170\n",
            "\n",
            "    accuracy                           0.24       600\n",
            "   macro avg       0.25      0.25      0.24       600\n",
            "weighted avg       0.25      0.24      0.25       600\n",
            "\n"
          ]
        }
      ]
    },
    {
      "cell_type": "code",
      "metadata": {
        "colab": {
          "base_uri": "https://localhost:8080/"
        },
        "id": "kHBCCV5zMNQG",
        "outputId": "f6b4c4ba-e477-424d-dafb-33a626c79f88"
      },
      "source": [
        "from sklearn.metrics import accuracy_score\n",
        "accuracy_score(y_true, y_pred_olr)"
      ],
      "execution_count": null,
      "outputs": [
        {
          "output_type": "execute_result",
          "data": {
            "text/plain": [
              "0.245"
            ]
          },
          "metadata": {},
          "execution_count": 79
        }
      ]
    },
    {
      "cell_type": "markdown",
      "metadata": {
        "id": "1oz-NvpQREhp"
      },
      "source": [
        "## **Interpretation**: \n",
        "- Logitic Regression algorith was used to predict the mobile price ranges with accuracy of \"0.2466\" and of \"0.245\" post optimisation using hyperparameter tuning using Grid search.\n",
        "- Kaggle score went from \"0.96\" to \"0.98\""
      ]
    },
    {
      "cell_type": "markdown",
      "metadata": {
        "id": "mUAdtI3_S-W4"
      },
      "source": [
        "## **3. Decision Tree:**"
      ]
    },
    {
      "cell_type": "code",
      "metadata": {
        "colab": {
          "base_uri": "https://localhost:8080/"
        },
        "id": "Z5ax9BVWRsus",
        "outputId": "790517f6-1239-46ce-8d1f-36bea7562b5d"
      },
      "source": [
        "from sklearn.tree import DecisionTreeClassifier \n",
        "from sklearn.model_selection import cross_val_score\n",
        "\n",
        "decision_tree = DecisionTreeClassifier()\n",
        "\n",
        "dtc = decision_tree.fit(x_trainscale,y_train)\n",
        "\n",
        "scor = cross_val_score(decision_tree,x_trainscale,y_train,cv=5)\n",
        "\n",
        "print(scor)\n",
        "\n",
        "#print(scores.mean())"
      ],
      "execution_count": null,
      "outputs": [
        {
          "output_type": "stream",
          "name": "stdout",
          "text": [
            "[0.84285714 0.76785714 0.79285714 0.83214286 0.825     ]\n"
          ]
        }
      ]
    },
    {
      "cell_type": "code",
      "metadata": {
        "colab": {
          "base_uri": "https://localhost:8080/"
        },
        "id": "UnlFuFnCSL0e",
        "outputId": "e128f206-5658-480b-bf07-5ed078687718"
      },
      "source": [
        "price_pred_dtc = dtc.predict(x_testscale)\n",
        "print(price_pred_dtc)"
      ],
      "execution_count": null,
      "outputs": [
        {
          "output_type": "stream",
          "name": "stdout",
          "text": [
            "[3 3 1 1 3 3 0 0 2 3 1 0 0 1 0 1 2 1 3 2 3 2 2 0 3 2 2 3 3 3 3 3 0 1 2 2 2\n",
            " 2 1 2 3 2 2 3 0 1 2 3 2 2 1 0 0 2 0 3 0 2 2 3 3 1 1 3 2 2 2 2 0 0 0 0 0 3\n",
            " 3 0 1 1 0 2 1 2 1 3 0 2 0 1 3 2 1 2 0 3 2 3 3 3 0 0 1 0 2 1 0 3 1 3 3 2 1\n",
            " 1 0 2 1 2 1 0 3 1 3 1 0 0 1 1 1 3 0 0 3 2 0 0 0 0 1 1 1 2 3 0 1 0 3 3 0 3\n",
            " 3 0 3 1 3 3 2 1 0 3 1 2 3 1 1 3 0 0 3 1 0 2 2 2 0 1 2 2 0 1 1 1 2 1 1 3 2\n",
            " 2 0 3 3 1 0 2 2 0 3 2 0 1 3 3 0 2 1 2 3 0 2 3 0 2 3 0 2 3 1 1 3 1 2 2 3 0\n",
            " 2 2 2 1 2 3 0 3 1 0 1 2 3 1 3 0 1 3 2 2 0 1 3 0 1 3 3 0 3 0 2 0 2 3 3 1 0\n",
            " 3 1 0 2 0 3 2 2 2 1 3 1 3 3 1 0 3 0 2 1 1 3 2 1 3 3 2 1 2 2 2 1 1 1 2 1 0\n",
            " 1 0 0 0 2 3 1 3 0 2 3 0 1 3 0 0 0 3 1 1 2 1 2 0 3 1 1 1 1 0 1 1 3 3 2 0 2\n",
            " 0 3 0 3 0 2 1 1 3 3 2 2 0 2 1 1 2 0 2 1 3 1 0 0 3 2 3 3 0 2 2 0 0 3 3 1 2\n",
            " 3 3 3 2 3 2 1 0 3 1 0 0 3 0 0 0 3 1 3 0 3 1 2 1 2 0 2 2 2 1 2 0 1 1 0 0 0\n",
            " 2 0 1 2 1 2 2 3 3 2 2 2 0 2 1 1 2 0 2 0 1 2 0 0 0 1 2 1 2 2 0 0 2 0 2 2 1\n",
            " 2 3 1 1 0 2 2 3 3 3 2 0 3 0 1 3 0 1 0 3 3 0 0 0 1 0 0 0 0 2 0 2 1 2 1 3 2\n",
            " 1 0 2 3 3 1 1 1 1 3 2 0 2 1 1 0 2 1 3 2 0 3 1 1 3 1 1 3 2 0 2 2 2 2 2 0 2\n",
            " 3 0 1 3 0 3 3 1 2 1 2 0 1 2 0 3 3 0 1 3 3 3 2 1 0 1 0 0 0 1 3 0 3 3 1 0 0\n",
            " 1 3 2 3 0 3 0 2 2 3 0 1 3 2 2 2 3 2 2 2 3 1 1 3 2 3 1 0 0 2 0 3 1 0 1 2 1\n",
            " 0 0 0 1 2 0 0 3]\n"
          ]
        }
      ]
    },
    {
      "cell_type": "code",
      "metadata": {
        "id": "cMQT6NNB1Q7w"
      },
      "source": [
        "dtc_output = pd.DataFrame({'id':test_data['id'],'price_range':price_pred_dtc})\n",
        "dtc_output.to_csv(r'C:\\Users\\adity\\OneDrive\\Desktop\\NIKITA\\Semester 1\\Data Science\\result_dtc.csv',index=False)"
      ],
      "execution_count": null,
      "outputs": []
    },
    {
      "cell_type": "code",
      "metadata": {
        "colab": {
          "base_uri": "https://localhost:8080/"
        },
        "id": "Sql832sgNZ79",
        "outputId": "b39d13d5-0684-4b32-9fdd-5864ed9b6d1f"
      },
      "source": [
        "# Printing the confusion matrix\n",
        "# The columns will show the instances predicted for each label,\n",
        "# and the rows will show the actual number of instances for each label.\n",
        "print(metrics.confusion_matrix(y_true, price_pred_dtc, labels=[0, 2, 1, 3]))\n",
        "# Printing the precision and recall, among other metrics\n",
        "print(metrics.classification_report(y_true, price_pred_dtc, labels=[0, 2, 1, 3]))"
      ],
      "execution_count": null,
      "outputs": [
        {
          "output_type": "stream",
          "name": "stdout",
          "text": [
            "[[38 42 43 40]\n",
            " [31 37 32 38]\n",
            " [39 38 28 24]\n",
            " [47 37 41 45]]\n",
            "              precision    recall  f1-score   support\n",
            "\n",
            "           0       0.25      0.23      0.24       163\n",
            "           2       0.24      0.27      0.25       138\n",
            "           1       0.19      0.22      0.21       129\n",
            "           3       0.31      0.26      0.28       170\n",
            "\n",
            "    accuracy                           0.25       600\n",
            "   macro avg       0.25      0.25      0.25       600\n",
            "weighted avg       0.25      0.25      0.25       600\n",
            "\n"
          ]
        }
      ]
    },
    {
      "cell_type": "code",
      "metadata": {
        "colab": {
          "base_uri": "https://localhost:8080/"
        },
        "id": "FhsdNLYWNZzR",
        "outputId": "64ee5db5-0870-42e6-8dd1-7f4280b6e87a"
      },
      "source": [
        "from sklearn.metrics import accuracy_score\n",
        "accuracy_score(y_true, y_pred_olr)"
      ],
      "execution_count": null,
      "outputs": [
        {
          "output_type": "execute_result",
          "data": {
            "text/plain": [
              "0.245"
            ]
          },
          "metadata": {},
          "execution_count": 84
        }
      ]
    },
    {
      "cell_type": "markdown",
      "metadata": {
        "id": "kUtrfxAurwxo"
      },
      "source": [
        "## **Optimisation using Hyperparameter Tuning for Decision Tree:**"
      ]
    },
    {
      "cell_type": "code",
      "metadata": {
        "id": "WrgTinFF4_uq"
      },
      "source": [
        "param_dict = {\n",
        "    \"criterion\":['gini','entropy'],\n",
        "    \"max_depth\":range(1,10),\n",
        "    \"min_samples_split\":range(1,10),\n",
        "    \"min_samples_leaf\":range(1,5)\n",
        "}"
      ],
      "execution_count": null,
      "outputs": []
    },
    {
      "cell_type": "code",
      "metadata": {
        "colab": {
          "base_uri": "https://localhost:8080/"
        },
        "id": "lSkoMFYH4_pn",
        "outputId": "43438b0b-3fe6-4833-c851-0ce371464cf8"
      },
      "source": [
        "grid = GridSearchCV(decision_tree, \n",
        "                    param_grid= param_dict,\n",
        "                    cv=10,\n",
        "                    verbose=1,\n",
        "                    n_jobs=-1)\n",
        "\n",
        "grid.fit(x_trainscale, y_train)"
      ],
      "execution_count": null,
      "outputs": [
        {
          "output_type": "stream",
          "name": "stdout",
          "text": [
            "Fitting 10 folds for each of 648 candidates, totalling 6480 fits\n"
          ]
        },
        {
          "output_type": "execute_result",
          "data": {
            "text/plain": [
              "GridSearchCV(cv=10, estimator=DecisionTreeClassifier(), n_jobs=-1,\n",
              "             param_grid={'criterion': ['gini', 'entropy'],\n",
              "                         'max_depth': range(1, 10),\n",
              "                         'min_samples_leaf': range(1, 5),\n",
              "                         'min_samples_split': range(1, 10)},\n",
              "             verbose=1)"
            ]
          },
          "metadata": {},
          "execution_count": 86
        }
      ]
    },
    {
      "cell_type": "markdown",
      "metadata": {
        "id": "PGAOqbow8fPg"
      },
      "source": [
        "The decision is an estimator implemented using sklearn. The parameter cv is the cross-validation method if this parameter is set to be None, to use the default 5-fold cross-validation. The parameter verbose controls the verbosity and the parameter n_jobs is the number of jobs to run in parallel. none means 1 unless in a joblib.parallel_backend context. -1 means using all processors."
      ]
    },
    {
      "cell_type": "code",
      "metadata": {
        "colab": {
          "base_uri": "https://localhost:8080/"
        },
        "id": "KHFrlfKC4_mi",
        "outputId": "95512b53-f393-46df-9e58-9a848ab227e3"
      },
      "source": [
        "grid.best_params_"
      ],
      "execution_count": null,
      "outputs": [
        {
          "output_type": "execute_result",
          "data": {
            "text/plain": [
              "{'criterion': 'gini',\n",
              " 'max_depth': 6,\n",
              " 'min_samples_leaf': 3,\n",
              " 'min_samples_split': 6}"
            ]
          },
          "metadata": {},
          "execution_count": 87
        }
      ]
    },
    {
      "cell_type": "code",
      "metadata": {
        "colab": {
          "base_uri": "https://localhost:8080/"
        },
        "id": "DehF47dv4_jZ",
        "outputId": "c450e46c-45bb-4f99-8f04-b95d77e9544a"
      },
      "source": [
        "grid.best_estimator_"
      ],
      "execution_count": null,
      "outputs": [
        {
          "output_type": "execute_result",
          "data": {
            "text/plain": [
              "DecisionTreeClassifier(max_depth=6, min_samples_leaf=3, min_samples_split=6)"
            ]
          },
          "metadata": {},
          "execution_count": 88
        }
      ]
    },
    {
      "cell_type": "code",
      "metadata": {
        "colab": {
          "base_uri": "https://localhost:8080/"
        },
        "id": "4MjskD-98u1n",
        "outputId": "dfe8500a-040e-4463-87ef-16c5690f2899"
      },
      "source": [
        "grid.best_score_"
      ],
      "execution_count": null,
      "outputs": [
        {
          "output_type": "execute_result",
          "data": {
            "text/plain": [
              "0.8492857142857142"
            ]
          },
          "metadata": {},
          "execution_count": 89
        }
      ]
    },
    {
      "cell_type": "code",
      "metadata": {
        "colab": {
          "base_uri": "https://localhost:8080/"
        },
        "id": "ryC44Vhf87Lk",
        "outputId": "41d95166-18bb-4176-b94a-161f3fff92c1"
      },
      "source": [
        "d_tree = DecisionTreeClassifier(criterion='entropy',max_depth=9,min_samples_leaf=3,min_samples_split=5,random_state=None, splitter='best')\n",
        "\n",
        "d_tree.fit(x_trainscale,y_train)"
      ],
      "execution_count": null,
      "outputs": [
        {
          "output_type": "execute_result",
          "data": {
            "text/plain": [
              "DecisionTreeClassifier(criterion='entropy', max_depth=9, min_samples_leaf=3,\n",
              "                       min_samples_split=5)"
            ]
          },
          "metadata": {},
          "execution_count": 90
        }
      ]
    },
    {
      "cell_type": "code",
      "metadata": {
        "colab": {
          "base_uri": "https://localhost:8080/"
        },
        "id": "PsdO5gPj9VSs",
        "outputId": "1b782490-24d3-42c1-cf3e-a319cff74435"
      },
      "source": [
        "dTree_scor = cross_val_score(d_tree,x_trainscale,y_train)\n",
        "\n",
        "print(dTree_scor)"
      ],
      "execution_count": null,
      "outputs": [
        {
          "output_type": "stream",
          "name": "stdout",
          "text": [
            "[0.86071429 0.84285714 0.86071429 0.825      0.83928571]\n"
          ]
        }
      ]
    },
    {
      "cell_type": "code",
      "metadata": {
        "colab": {
          "base_uri": "https://localhost:8080/"
        },
        "id": "KzgRc_9l9mDE",
        "outputId": "0f605017-d969-4ec1-9e8d-f89cd784c5ff"
      },
      "source": [
        "price_pred_dTree=d_tree.predict(x_testscale)\n",
        "print(price_pred_dTree)"
      ],
      "execution_count": null,
      "outputs": [
        {
          "output_type": "stream",
          "name": "stdout",
          "text": [
            "[3 2 1 1 3 3 0 0 2 3 1 1 0 1 0 1 2 1 3 2 3 2 2 0 3 2 2 3 2 3 2 3 0 1 1 2 1\n",
            " 2 1 2 3 2 2 3 0 2 2 3 2 3 1 0 0 2 0 2 0 1 2 3 3 1 1 2 2 2 2 2 0 0 0 0 0 3\n",
            " 3 0 2 2 1 2 1 2 1 3 0 2 0 1 3 2 1 2 0 2 3 3 3 3 0 0 0 0 1 1 1 3 1 2 3 2 1\n",
            " 1 0 2 1 3 1 0 3 1 2 1 1 0 2 1 1 3 0 0 3 2 0 0 0 0 1 1 1 2 2 0 2 0 2 3 0 3\n",
            " 2 0 3 1 3 3 1 1 0 3 1 2 3 1 1 3 0 0 3 1 1 2 3 2 0 1 2 2 0 1 1 1 2 0 1 3 2\n",
            " 2 0 3 3 2 0 2 2 0 2 2 0 1 3 3 0 2 1 2 3 0 2 3 0 2 3 0 3 3 1 2 3 2 2 3 3 0\n",
            " 2 2 2 1 2 3 0 2 1 0 2 3 3 1 3 0 1 3 1 2 0 1 2 0 1 3 3 0 3 0 2 0 2 3 3 1 1\n",
            " 3 1 0 2 0 3 2 2 2 2 3 1 2 3 1 0 3 0 2 1 2 3 2 1 3 3 1 1 2 2 2 1 1 1 2 1 1\n",
            " 2 0 0 0 2 3 1 3 1 2 3 0 1 3 0 0 0 3 1 1 2 2 2 0 2 1 1 1 1 0 0 2 3 3 2 0 2\n",
            " 0 3 0 3 0 3 1 1 3 3 3 2 0 3 1 1 2 0 1 0 3 0 0 0 3 2 3 3 0 2 2 0 0 3 3 1 2\n",
            " 2 3 3 3 3 2 1 0 3 1 0 0 3 0 0 0 3 1 3 0 3 1 2 1 2 0 1 2 1 1 2 0 1 1 0 0 0\n",
            " 2 0 1 2 1 3 3 3 3 3 2 2 0 2 1 1 2 0 3 0 0 2 0 0 0 0 2 1 3 2 1 0 2 1 2 2 1\n",
            " 2 2 1 1 1 3 1 3 3 3 2 0 3 0 1 2 0 0 0 3 3 1 0 0 2 0 0 0 0 2 0 1 1 2 1 3 2\n",
            " 1 0 2 3 3 1 1 1 1 3 1 0 2 1 2 0 3 1 3 2 0 3 0 1 3 1 1 3 3 0 2 2 2 2 2 0 1\n",
            " 3 0 1 3 0 3 3 2 2 2 2 0 2 2 0 3 3 0 1 3 3 2 2 1 0 1 0 0 0 1 3 1 3 3 1 0 0\n",
            " 1 3 2 3 0 3 0 2 3 3 0 1 3 2 2 2 3 3 2 2 3 2 2 2 2 3 1 0 0 2 0 3 2 0 1 2 1\n",
            " 0 0 0 1 2 0 0 3]\n"
          ]
        }
      ]
    },
    {
      "cell_type": "code",
      "metadata": {
        "id": "jd_W67lf9yBC"
      },
      "source": [
        "dTree_output = pd.DataFrame({'id':test_data['id'],'price_range':price_pred_dTree})\n",
        "dTree_output.to_csv(r'C:\\Users\\adity\\OneDrive\\Desktop\\NIKITA\\Semester 1\\Data Science\\result_dTree.csv',index=False)"
      ],
      "execution_count": null,
      "outputs": []
    },
    {
      "cell_type": "code",
      "metadata": {
        "colab": {
          "base_uri": "https://localhost:8080/"
        },
        "id": "zlLUr919OB3T",
        "outputId": "60029a54-3732-4f9d-acf9-04897a23c7a0"
      },
      "source": [
        "# Printing the confusion matrix\n",
        "# The columns will show the instances predicted for each label,\n",
        "# and the rows will show the actual number of instances for each label.\n",
        "print(metrics.confusion_matrix(y_true, price_pred_dTree, labels=[0, 2, 1, 3]))\n",
        "# Printing the precision and recall, among other metrics\n",
        "print(metrics.classification_report(y_true, price_pred_dTree, labels=[0, 2, 1, 3]))"
      ],
      "execution_count": null,
      "outputs": [
        {
          "output_type": "stream",
          "name": "stdout",
          "text": [
            "[[34 44 45 40]\n",
            " [33 39 29 37]\n",
            " [39 40 23 27]\n",
            " [45 39 43 43]]\n",
            "              precision    recall  f1-score   support\n",
            "\n",
            "           0       0.23      0.21      0.22       163\n",
            "           2       0.24      0.28      0.26       138\n",
            "           1       0.16      0.18      0.17       129\n",
            "           3       0.29      0.25      0.27       170\n",
            "\n",
            "    accuracy                           0.23       600\n",
            "   macro avg       0.23      0.23      0.23       600\n",
            "weighted avg       0.23      0.23      0.23       600\n",
            "\n"
          ]
        }
      ]
    },
    {
      "cell_type": "code",
      "metadata": {
        "colab": {
          "base_uri": "https://localhost:8080/"
        },
        "id": "r5P3fqHsOBz6",
        "outputId": "1b218eb5-ef62-4e2e-8e3e-7122defb8c96"
      },
      "source": [
        "from sklearn.metrics import accuracy_score\n",
        "accuracy_score(y_true, price_pred_dTree)"
      ],
      "execution_count": null,
      "outputs": [
        {
          "output_type": "execute_result",
          "data": {
            "text/plain": [
              "0.23166666666666666"
            ]
          },
          "metadata": {},
          "execution_count": 95
        }
      ]
    },
    {
      "cell_type": "markdown",
      "metadata": {
        "id": "EXiNtbi_RUm0"
      },
      "source": [
        "## **Interpretation**: \n",
        "- Decision Tree classifier predicted the mobile price ranges with accuracy of \"0.245\" and of \"0.228\" post optimisation using hyperparameter tuning using Grid search.\n",
        "\n",
        "- Kaggle score went from \"0.826\" to \"0.858\""
      ]
    },
    {
      "cell_type": "markdown",
      "metadata": {
        "id": "ZUitPN8JSNn9"
      },
      "source": [
        "## **Part E** - **Summary**\n",
        "\n",
        "- Three different Supervised learning models have been used here to predict the mobile-price ranges. \n",
        "\n",
        "- The dataset had 4 labels in y-train with balanced data in each category. \n",
        "\n",
        "- A new feature named - \"Disp_Resolution\" was added to the dataset by multiplying the values of existing rows namely - px_width & px_height.\n",
        "\n",
        "- Thus, it is a case of multiclass classification with balanced dataset.\n",
        "\n",
        "- Significant variables were found using correlation matrix and OLS Technique under Feature Engineering section.\n",
        "\n",
        "- Logistic regression model was taken from kernels mentioned on kaggle. Along with this, 2 more classification models were developed namely Random forest classifier and Decision Tree. All the models were optimised using hyperparameter tuning using Grid search cv technique. \n",
        "\n",
        "- However, logistic regression was found out to be best performing model with highest score of 0.98 on kaggle leaderboard with Rank = 1.\n",
        "\n",
        "- Apart from this, Exploratory Data Analysis and interpretability of model was also done using SHAP values technique.\n",
        "\n"
      ]
    },
    {
      "cell_type": "markdown",
      "metadata": {
        "id": "8plCxA8eNhHH"
      },
      "source": [
        "# **Part F. Conclusion -**\n",
        "\n",
        "* The most significant driving factors to predict mobile price are  ram, px_height, px_width, Disp_Resolution and battery power. \n",
        "*Three predictive models have been run to predict the mobile price ranges, namely -Random forest classifier, Logistic Regression and Decision tree. \n",
        "* Logistic regression model showed the best model with score of 0.98\n",
        "\n",
        "\n",
        "\n",
        "\n",
        "\n",
        "* **References:**  \n",
        "1. Scikit learn offcial documentation - https://scikit-learn.org/stable/modules/preprocessing.html#standardization-or-mean-removal-and-variance-scaling\n",
        "2. https://scikit-learn.org/stable/modules/generated/sklearn.model_selection.GridSearchCV.html\n",
        "3. https://www.kaggle.com/c/mobile-price-range-prediction-is2020-v2/overview\n",
        "4. https://towardsdatascience.com/hyperparameter-tuning-the-random-forest-in-python-using-scikit-learn-28d2aa77dd74\n",
        "\n",
        "The algorithms were referred directly from the Scikit learn official documentation. Normalization, Pearson's correlation and heatmap were referred from towardsdataScience site. Rest of the code was written independently.\n",
        "\n",
        "\n",
        "\n",
        "\n",
        "\n",
        "Copyright 2021 Nikita Gaurihar\n",
        "\n",
        "Permission is hereby granted, free of charge, to any person obtaining a copy of this software and associated documentation files (the \"Software\"), to deal in the Software without restriction, including without limitation the rights to use, copy, modify, merge, publish, distribute, sublicense, and/or sell copies of the Software, and to permit persons to whom the Software is furnished to do so, subject to the following conditions:\n",
        "\n",
        "The above copyright notice and this permission notice shall be included in all copies or substantial portions of the Software.\n",
        "\n",
        "THE SOFTWARE IS PROVIDED \"AS IS\", WITHOUT WARRANTY OF ANY KIND, EXPRESS OR IMPLIED, INCLUDING BUT NOT LIMITED TO THE WARRANTIES OF MERCHANTABILITY, FITNESS FOR A PARTICULAR PURPOSE AND NONINFRINGEMENT. IN NO EVENT SHALL THE AUTHORS OR COPYRIGHT HOLDERS BE LIABLE FOR ANY CLAIM, DAMAGES OR OTHER LIABILITY, WHETHER IN AN ACTION OF CONTRACT, TORT OR OTHERWISE, ARISING FROM, OUT OF OR IN CONNECTION WITH THE SOFTWARE OR THE USE OR OTHER DEALINGS IN THE SOFTWARE."
      ]
    },
    {
      "cell_type": "code",
      "metadata": {
        "id": "OXKJN5sMQsFr"
      },
      "source": [
        ""
      ],
      "execution_count": null,
      "outputs": []
    }
  ]
}